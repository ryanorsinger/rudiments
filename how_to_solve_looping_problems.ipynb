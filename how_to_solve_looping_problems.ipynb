{
 "cells": [
  {
   "cell_type": "code",
   "execution_count": 1,
   "id": "5a4804a4",
   "metadata": {},
   "outputs": [],
   "source": [
    "students = [\n",
    "    {\n",
    "        \"id\": \"100001\",\n",
    "        \"student\": \"Ada Lovelace\",\n",
    "        \"coffee_preference\": \"light\",\n",
    "        \"course\": \"web development\",\n",
    "        \"grades\": [70, 91, 82, 71],\n",
    "        \"pets\": [{\"species\": \"horse\", \"age\": 8}],\n",
    "    },\n",
    "    {\n",
    "        \"id\": \"100002\",\n",
    "        \"student\": \"Thomas Bayes\",\n",
    "        \"coffee_preference\": \"medium\",\n",
    "        \"course\": \"data science\",\n",
    "        \"grades\": [75, 73, 86, 100],\n",
    "        \"pets\": [],\n",
    "    },\n",
    "    {\n",
    "        \"id\": \"100003\",\n",
    "        \"student\": \"Marie Curie\",\n",
    "        \"coffee_preference\": \"light\",\n",
    "        \"course\": \"web development\",\n",
    "        \"grades\": [70, 89, 69, 65],\n",
    "        \"pets\": [{\"species\": \"cat\", \"age\": 0}],\n",
    "    },\n",
    "    {\n",
    "        \"id\": \"100004\",\n",
    "        \"student\": \"Grace Hopper\",\n",
    "        \"coffee_preference\": \"dark\",\n",
    "        \"course\": \"data science\",\n",
    "        \"grades\": [73, 66, 83, 92],\n",
    "        \"pets\": [{\"species\": \"dog\", \"age\": 4}, {\"species\": \"cat\", \"age\": 4}],\n",
    "    },\n",
    "    {\n",
    "        \"id\": \"100005\",\n",
    "        \"student\": \"Alan Turing\",\n",
    "        \"coffee_preference\": \"dark\",\n",
    "        \"course\": \"web development\",\n",
    "        \"grades\": [78, 98, 85, 65],\n",
    "        \"pets\": [\n",
    "            {\"species\": \"horse\", \"age\": 6},\n",
    "            {\"species\": \"horse\", \"age\": 7},\n",
    "            {\"species\": \"dog\", \"age\": 5},\n",
    "        ],\n",
    "    },\n",
    "    {\n",
    "        \"id\": \"100006\",\n",
    "        \"student\": \"Rosalind Franklin\",\n",
    "        \"coffee_preference\": \"dark\",\n",
    "        \"course\": \"data science\",\n",
    "        \"grades\": [76, 70, 96, 81],\n",
    "        \"pets\": [],\n",
    "    },\n",
    "    {\n",
    "        \"id\": \"100007\",\n",
    "        \"student\": \"Elizabeth Blackwell\",\n",
    "        \"coffee_preference\": \"dark\",\n",
    "        \"course\": \"web development\",\n",
    "        \"grades\": [69, 94, 89, 86],\n",
    "        \"pets\": [{\"species\": \"cat\", \"age\": 10}],\n",
    "    },\n",
    "    {\n",
    "        \"id\": \"100008\",\n",
    "        \"student\": \"Rene Descartes\",\n",
    "        \"coffee_preference\": \"medium\",\n",
    "        \"course\": \"data science\",\n",
    "        \"grades\": [87, 79, 90, 99],\n",
    "        \"pets\": [{\"species\": \"cat\", \"age\": 10}, {\"species\": \"cat\", \"age\": 8}],\n",
    "    },\n",
    "    {\n",
    "        \"id\": \"100009\",\n",
    "        \"student\": \"Ahmed Zewail\",\n",
    "        \"coffee_preference\": \"medium\",\n",
    "        \"course\": \"data science\",\n",
    "        \"grades\": [74, 99, 93, 89],\n",
    "        \"pets\": [{\"species\": \"cat\", \"age\": 0}, {\"species\": \"cat\", \"age\": 0}],\n",
    "    },\n",
    "    {\n",
    "        \"id\": \"100010\",\n",
    "        \"student\": \"Chien-Shiung Wu\",\n",
    "        \"coffee_preference\": \"medium\",\n",
    "        \"course\": \"web development\",\n",
    "        \"grades\": [82, 92, 91, 65],\n",
    "        \"pets\": [{\"species\": \"cat\", \"age\": 8}],\n",
    "    },\n",
    "    {\n",
    "        \"id\": \"100011\",\n",
    "        \"student\": \"William Sanford Nye\",\n",
    "        \"coffee_preference\": \"dark\",\n",
    "        \"course\": \"data science\",\n",
    "        \"grades\": [70, 92, 65, 99],\n",
    "        \"pets\": [{\"species\": \"cat\", \"age\": 8}, {\"species\": \"cat\", \"age\": 5}],\n",
    "    },\n",
    "    {\n",
    "        \"id\": \"100012\",\n",
    "        \"student\": \"Carl Sagan\",\n",
    "        \"coffee_preference\": \"medium\",\n",
    "        \"course\": \"data science\",\n",
    "        \"grades\": [100, 86, 91, 87],\n",
    "        \"pets\": [{\"species\": \"cat\", \"age\": 10}],\n",
    "    },\n",
    "    {\n",
    "        \"id\": \"100013\",\n",
    "        \"student\": \"Jane Goodall\",\n",
    "        \"coffee_preference\": \"light\",\n",
    "        \"course\": \"web development\",\n",
    "        \"grades\": [80, 70, 68, 98],\n",
    "        \"pets\": [{\"species\": \"horse\", \"age\": 4}],\n",
    "    },\n",
    "    {\n",
    "        \"id\": \"100014\",\n",
    "        \"student\": \"Richard Feynman\",\n",
    "        \"coffee_preference\": \"medium\",\n",
    "        \"course\": \"web development\",\n",
    "        \"grades\": [73, 99, 86, 98],\n",
    "        \"pets\": [{\"species\": \"dog\", \"age\": 6}],\n",
    "    },\n",
    "]"
   ]
  },
  {
   "cell_type": "markdown",
   "id": "ce1fc075",
   "metadata": {},
   "source": [
    "# How to Solve Looping Problems\n",
    "- One weird trick to solving looping problems: blow off the loop.\n",
    "- Why?\n",
    "    - Simplify the problem\n",
    "    - Reducing cognitive overhead\n",
    "    - Emotionally, solving a simpler problem is good for your morale\n",
    "    - Create emotional momentum by solving simpler problems sequentially vs. one big perfect solution the first time"
   ]
  },
  {
   "cell_type": "code",
   "execution_count": 21,
   "id": "b0127a12",
   "metadata": {},
   "outputs": [
    {
     "data": {
      "text/plain": [
       "{'id': '100002',\n",
       " 'student': 'Thomas Bayes',\n",
       " 'coffee_preference': 'medium',\n",
       " 'course': 'data science',\n",
       " 'grades': [75, 73, 86, 100],\n",
       " 'pets': []}"
      ]
     },
     "execution_count": 21,
     "metadata": {},
     "output_type": "execute_result"
    }
   ],
   "source": [
    "# Exercise\n",
    "# What's the average of all student grades?\n",
    "# Initially, we see a list of dictionaries where one key is another list of numbers\n",
    "\n",
    "# step 1 is to blow off the loop. (both mentally and in our code)\n",
    "# step 2 is we make a singular variable that holds the first item on that list\n",
    "student = students[1]\n",
    "student"
   ]
  },
  {
   "cell_type": "code",
   "execution_count": 15,
   "id": "cd1825e0",
   "metadata": {},
   "outputs": [],
   "source": [
    "# step 3: ok, what is the question asking about, if we only had one thing from that list?\n",
    "# Problem: average the grades\n",
    "# Step 4: think about and plan out what we need to do to solve the problem in a singular case, for ONE item from the list"
   ]
  },
  {
   "cell_type": "code",
   "execution_count": 22,
   "id": "a5e3f3e2",
   "metadata": {},
   "outputs": [
    {
     "data": {
      "text/plain": [
       "[75, 73, 86, 100]"
      ]
     },
     "execution_count": 22,
     "metadata": {},
     "output_type": "execute_result"
    }
   ],
   "source": [
    "student[\"grades\"]"
   ]
  },
  {
   "cell_type": "code",
   "execution_count": 24,
   "id": "006d185f",
   "metadata": {},
   "outputs": [
    {
     "data": {
      "text/plain": [
       "[75, 73, 86, 100]"
      ]
     },
     "execution_count": 24,
     "metadata": {},
     "output_type": "execute_result"
    }
   ],
   "source": [
    "# I know I need a list to hold all of the grades we'll end up seeing\n",
    "all_grades = []\n",
    "\n",
    "# Let's iterate through the list of student grades, add them to the overall list of grades\n",
    "# then calculate sum(grades) / len(grades) to get the average\n",
    "\n",
    "for grade in student[\"grades\"]:\n",
    "    all_grades.append(grade)\n",
    "    \n",
    "    \n",
    "all_grades"
   ]
  },
  {
   "cell_type": "code",
   "execution_count": 20,
   "id": "98bd3171",
   "metadata": {},
   "outputs": [
    {
     "data": {
      "text/plain": [
       "78.5"
      ]
     },
     "execution_count": 20,
     "metadata": {},
     "output_type": "execute_result"
    }
   ],
   "source": [
    "sum(all_grades) / len(all_grades)"
   ]
  },
  {
   "cell_type": "code",
   "execution_count": 30,
   "id": "12d9c85d",
   "metadata": {},
   "outputs": [
    {
     "data": {
      "text/plain": [
       "82.92857142857143"
      ]
     },
     "execution_count": 30,
     "metadata": {},
     "output_type": "execute_result"
    }
   ],
   "source": [
    "# Now that you have a solution that works for one thing on that list...\n",
    "# we can bring the loop back\n",
    "\n",
    "all_grades = []\n",
    "\n",
    "# Let's iterate through the list of student grades, add them to the overall list of grades\n",
    "# then calculate sum(grades) / len(grades) to get the average\n",
    "for student in students:\n",
    "    for grade in student[\"grades\"]:\n",
    "        all_grades.append(grade)\n",
    "        \n",
    "sum(all_grades) / len(all_grades)"
   ]
  },
  {
   "cell_type": "markdown",
   "id": "fa348ee9",
   "metadata": {},
   "source": [
    "## Exercise\n",
    "- Count the number of pets from data science students in the above data"
   ]
  },
  {
   "cell_type": "code",
   "execution_count": 50,
   "id": "c55a035a",
   "metadata": {},
   "outputs": [
    {
     "data": {
      "text/plain": [
       "{'id': '100004',\n",
       " 'student': 'Grace Hopper',\n",
       " 'coffee_preference': 'dark',\n",
       " 'course': 'data science',\n",
       " 'grades': [73, 66, 83, 92],\n",
       " 'pets': [{'species': 'dog', 'age': 4}, {'species': 'cat', 'age': 4}]}"
      ]
     },
     "execution_count": 50,
     "metadata": {},
     "output_type": "execute_result"
    }
   ],
   "source": [
    "# Step 1: blow off the loop (mentally and we literally don't write a loop yet)\n",
    "# Step 2: set a singular variable for the first thing off that list\n",
    "student = students[3]\n",
    "student"
   ]
  },
  {
   "cell_type": "code",
   "execution_count": 51,
   "id": "1c80687a",
   "metadata": {},
   "outputs": [],
   "source": [
    "# Step 3: determine the algorithm: sequence, selection, iteration to solve the original problem for one single item\n",
    "\n",
    "# Good plan with counting algorithms is start with a counter of zero.\n",
    "number_of_pets = 0"
   ]
  },
  {
   "cell_type": "code",
   "execution_count": 52,
   "id": "45b650b8",
   "metadata": {},
   "outputs": [
    {
     "data": {
      "text/plain": [
       "2"
      ]
     },
     "execution_count": 52,
     "metadata": {},
     "output_type": "execute_result"
    }
   ],
   "source": [
    "# Now we have to ask a question about our single student - is this a data science student?\n",
    "if student[\"course\"] == \"data science\":\n",
    "    number_of_pets += len(student[\"pets\"])\n",
    "    \n",
    "number_of_pets"
   ]
  },
  {
   "cell_type": "code",
   "execution_count": 53,
   "id": "295039b7",
   "metadata": {},
   "outputs": [
    {
     "data": {
      "text/plain": [
       "[{'species': 'dog', 'age': 4}, {'species': 'cat', 'age': 4}]"
      ]
     },
     "execution_count": 53,
     "metadata": {},
     "output_type": "execute_result"
    }
   ],
   "source": [
    "student[\"pets\"]"
   ]
  },
  {
   "cell_type": "code",
   "execution_count": 54,
   "id": "b93b823b",
   "metadata": {},
   "outputs": [
    {
     "data": {
      "text/plain": [
       "2"
      ]
     },
     "execution_count": 54,
     "metadata": {},
     "output_type": "execute_result"
    }
   ],
   "source": [
    "# How many pets does this one specific student have?\n",
    "len(student[\"pets\"])"
   ]
  },
  {
   "cell_type": "code",
   "execution_count": 55,
   "id": "4655619b",
   "metadata": {},
   "outputs": [
    {
     "data": {
      "text/plain": [
       "9"
      ]
     },
     "execution_count": 55,
     "metadata": {},
     "output_type": "execute_result"
    }
   ],
   "source": [
    "# Step 4: bring back the loop\n",
    "\n",
    "number_of_pets = 0\n",
    "\n",
    "for student in students:\n",
    "    if student[\"course\"] == \"data science\":\n",
    "        number_of_pets += len(student[\"pets\"])\n",
    "    \n",
    "number_of_pets"
   ]
  },
  {
   "cell_type": "code",
   "execution_count": null,
   "id": "3803cf2f",
   "metadata": {},
   "outputs": [],
   "source": [
    "# We use += to have a rolling total, a summation, a rolling tab"
   ]
  },
  {
   "cell_type": "code",
   "execution_count": 56,
   "id": "865ef89b",
   "metadata": {},
   "outputs": [
    {
     "data": {
      "text/plain": [
       "1.99"
      ]
     },
     "execution_count": 56,
     "metadata": {},
     "output_type": "execute_result"
    }
   ],
   "source": [
    "total = 0\n",
    "total += 1.99\n",
    "total"
   ]
  },
  {
   "cell_type": "code",
   "execution_count": 57,
   "id": "da752a00",
   "metadata": {},
   "outputs": [
    {
     "data": {
      "text/plain": [
       "8.98"
      ]
     },
     "execution_count": 57,
     "metadata": {},
     "output_type": "execute_result"
    }
   ],
   "source": [
    "total += 6.99\n",
    "total"
   ]
  },
  {
   "cell_type": "code",
   "execution_count": 58,
   "id": "8c48ce9b",
   "metadata": {},
   "outputs": [
    {
     "data": {
      "text/plain": [
       "18.979"
      ]
     },
     "execution_count": 58,
     "metadata": {},
     "output_type": "execute_result"
    }
   ],
   "source": [
    "total += 9.999\n",
    "total"
   ]
  },
  {
   "cell_type": "code",
   "execution_count": null,
   "id": "4268a63e",
   "metadata": {},
   "outputs": [],
   "source": []
  }
 ],
 "metadata": {
  "kernelspec": {
   "display_name": "Python 3 (ipykernel)",
   "language": "python",
   "name": "python3"
  },
  "language_info": {
   "codemirror_mode": {
    "name": "ipython",
    "version": 3
   },
   "file_extension": ".py",
   "mimetype": "text/x-python",
   "name": "python",
   "nbconvert_exporter": "python",
   "pygments_lexer": "ipython3",
   "version": "3.8.12"
  }
 },
 "nbformat": 4,
 "nbformat_minor": 5
}
