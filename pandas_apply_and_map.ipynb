{
 "cells": [
  {
   "cell_type": "code",
   "execution_count": 1,
   "id": "c8174a2b",
   "metadata": {},
   "outputs": [],
   "source": [
    "import pandas as pd\n",
    "from pydataset import data"
   ]
  },
  {
   "cell_type": "code",
   "execution_count": 2,
   "id": "13202dad",
   "metadata": {},
   "outputs": [
    {
     "data": {
      "text/html": [
       "<div>\n",
       "<style scoped>\n",
       "    .dataframe tbody tr th:only-of-type {\n",
       "        vertical-align: middle;\n",
       "    }\n",
       "\n",
       "    .dataframe tbody tr th {\n",
       "        vertical-align: top;\n",
       "    }\n",
       "\n",
       "    .dataframe thead th {\n",
       "        text-align: right;\n",
       "    }\n",
       "</style>\n",
       "<table border=\"1\" class=\"dataframe\">\n",
       "  <thead>\n",
       "    <tr style=\"text-align: right;\">\n",
       "      <th></th>\n",
       "      <th>total_bill</th>\n",
       "      <th>tip</th>\n",
       "      <th>sex</th>\n",
       "      <th>smoker</th>\n",
       "      <th>day</th>\n",
       "      <th>time</th>\n",
       "      <th>size</th>\n",
       "    </tr>\n",
       "  </thead>\n",
       "  <tbody>\n",
       "    <tr>\n",
       "      <th>1</th>\n",
       "      <td>16.99</td>\n",
       "      <td>1.01</td>\n",
       "      <td>Female</td>\n",
       "      <td>No</td>\n",
       "      <td>Sun</td>\n",
       "      <td>Dinner</td>\n",
       "      <td>2</td>\n",
       "    </tr>\n",
       "    <tr>\n",
       "      <th>2</th>\n",
       "      <td>10.34</td>\n",
       "      <td>1.66</td>\n",
       "      <td>Male</td>\n",
       "      <td>No</td>\n",
       "      <td>Sun</td>\n",
       "      <td>Dinner</td>\n",
       "      <td>3</td>\n",
       "    </tr>\n",
       "    <tr>\n",
       "      <th>3</th>\n",
       "      <td>21.01</td>\n",
       "      <td>3.50</td>\n",
       "      <td>Male</td>\n",
       "      <td>No</td>\n",
       "      <td>Sun</td>\n",
       "      <td>Dinner</td>\n",
       "      <td>3</td>\n",
       "    </tr>\n",
       "    <tr>\n",
       "      <th>4</th>\n",
       "      <td>23.68</td>\n",
       "      <td>3.31</td>\n",
       "      <td>Male</td>\n",
       "      <td>No</td>\n",
       "      <td>Sun</td>\n",
       "      <td>Dinner</td>\n",
       "      <td>2</td>\n",
       "    </tr>\n",
       "    <tr>\n",
       "      <th>5</th>\n",
       "      <td>24.59</td>\n",
       "      <td>3.61</td>\n",
       "      <td>Female</td>\n",
       "      <td>No</td>\n",
       "      <td>Sun</td>\n",
       "      <td>Dinner</td>\n",
       "      <td>4</td>\n",
       "    </tr>\n",
       "  </tbody>\n",
       "</table>\n",
       "</div>"
      ],
      "text/plain": [
       "   total_bill   tip     sex smoker  day    time  size\n",
       "1       16.99  1.01  Female     No  Sun  Dinner     2\n",
       "2       10.34  1.66    Male     No  Sun  Dinner     3\n",
       "3       21.01  3.50    Male     No  Sun  Dinner     3\n",
       "4       23.68  3.31    Male     No  Sun  Dinner     2\n",
       "5       24.59  3.61  Female     No  Sun  Dinner     4"
      ]
     },
     "execution_count": 2,
     "metadata": {},
     "output_type": "execute_result"
    }
   ],
   "source": [
    "df = data(\"tips\")\n",
    "df.head()"
   ]
  },
  {
   "cell_type": "code",
   "execution_count": 3,
   "id": "7fed4db5",
   "metadata": {},
   "outputs": [
    {
     "data": {
      "text/plain": [
       "Sat     87\n",
       "Sun     76\n",
       "Thur    62\n",
       "Fri     19\n",
       "Name: day, dtype: int64"
      ]
     },
     "execution_count": 3,
     "metadata": {},
     "output_type": "execute_result"
    }
   ],
   "source": [
    "df.day.value_counts()"
   ]
  },
  {
   "cell_type": "markdown",
   "id": "d30e17a2",
   "metadata": {},
   "source": [
    "## The .map method transforms a column's values with a dictionary\n",
    "- A dictionary is like a list, but it's a label list.\n",
    "- Perfect use of a .map is to transform abbreviated values into their full name"
   ]
  },
  {
   "cell_type": "code",
   "execution_count": 4,
   "id": "61d3d1ac",
   "metadata": {},
   "outputs": [
    {
     "data": {
      "text/plain": [
       "{'Sat': 'Saturday', 'Sun': 'Sunday', 'Fri': 'Friday', 'Thur': 'Thursday'}"
      ]
     },
     "execution_count": 4,
     "metadata": {},
     "output_type": "execute_result"
    }
   ],
   "source": [
    "# Goal: Transform abbreviated days into full day names\n",
    "# We're reassiging the column to be the transformed values\n",
    "# For each key, when we use .map, we'll transform the column to be the value\n",
    "day_names = {\n",
    "    \"Sat\": \"Saturday\",\n",
    "    \"Sun\": \"Sunday\",\n",
    "    \"Fri\": \"Friday\",\n",
    "    \"Thur\": \"Thursday\"\n",
    "}\n",
    "day_names"
   ]
  },
  {
   "cell_type": "code",
   "execution_count": 5,
   "id": "29f83c77",
   "metadata": {},
   "outputs": [
    {
     "data": {
      "text/html": [
       "<div>\n",
       "<style scoped>\n",
       "    .dataframe tbody tr th:only-of-type {\n",
       "        vertical-align: middle;\n",
       "    }\n",
       "\n",
       "    .dataframe tbody tr th {\n",
       "        vertical-align: top;\n",
       "    }\n",
       "\n",
       "    .dataframe thead th {\n",
       "        text-align: right;\n",
       "    }\n",
       "</style>\n",
       "<table border=\"1\" class=\"dataframe\">\n",
       "  <thead>\n",
       "    <tr style=\"text-align: right;\">\n",
       "      <th></th>\n",
       "      <th>total_bill</th>\n",
       "      <th>tip</th>\n",
       "      <th>sex</th>\n",
       "      <th>smoker</th>\n",
       "      <th>day</th>\n",
       "      <th>time</th>\n",
       "      <th>size</th>\n",
       "    </tr>\n",
       "  </thead>\n",
       "  <tbody>\n",
       "    <tr>\n",
       "      <th>1</th>\n",
       "      <td>16.99</td>\n",
       "      <td>1.01</td>\n",
       "      <td>Female</td>\n",
       "      <td>No</td>\n",
       "      <td>Sunday</td>\n",
       "      <td>Dinner</td>\n",
       "      <td>2</td>\n",
       "    </tr>\n",
       "    <tr>\n",
       "      <th>2</th>\n",
       "      <td>10.34</td>\n",
       "      <td>1.66</td>\n",
       "      <td>Male</td>\n",
       "      <td>No</td>\n",
       "      <td>Sunday</td>\n",
       "      <td>Dinner</td>\n",
       "      <td>3</td>\n",
       "    </tr>\n",
       "    <tr>\n",
       "      <th>3</th>\n",
       "      <td>21.01</td>\n",
       "      <td>3.50</td>\n",
       "      <td>Male</td>\n",
       "      <td>No</td>\n",
       "      <td>Sunday</td>\n",
       "      <td>Dinner</td>\n",
       "      <td>3</td>\n",
       "    </tr>\n",
       "    <tr>\n",
       "      <th>4</th>\n",
       "      <td>23.68</td>\n",
       "      <td>3.31</td>\n",
       "      <td>Male</td>\n",
       "      <td>No</td>\n",
       "      <td>Sunday</td>\n",
       "      <td>Dinner</td>\n",
       "      <td>2</td>\n",
       "    </tr>\n",
       "    <tr>\n",
       "      <th>5</th>\n",
       "      <td>24.59</td>\n",
       "      <td>3.61</td>\n",
       "      <td>Female</td>\n",
       "      <td>No</td>\n",
       "      <td>Sunday</td>\n",
       "      <td>Dinner</td>\n",
       "      <td>4</td>\n",
       "    </tr>\n",
       "  </tbody>\n",
       "</table>\n",
       "</div>"
      ],
      "text/plain": [
       "   total_bill   tip     sex smoker     day    time  size\n",
       "1       16.99  1.01  Female     No  Sunday  Dinner     2\n",
       "2       10.34  1.66    Male     No  Sunday  Dinner     3\n",
       "3       21.01  3.50    Male     No  Sunday  Dinner     3\n",
       "4       23.68  3.31    Male     No  Sunday  Dinner     2\n",
       "5       24.59  3.61  Female     No  Sunday  Dinner     4"
      ]
     },
     "execution_count": 5,
     "metadata": {},
     "output_type": "execute_result"
    }
   ],
   "source": [
    "# In the general form: dataframe.column.map({\"input1\": \"output1\", \"input2\": \"output2\"})\n",
    "# The .map looks for the \"key\" to replace with the \"value\" from the dictionary\n",
    "# And we'll need to re-assign the column, so the computer memory takes\n",
    "df.day = df.day.map(day_names)\n",
    "df.head()"
   ]
  },
  {
   "cell_type": "markdown",
   "id": "c6169b8d",
   "metadata": {},
   "source": [
    "## So what does .apply do?\n",
    "- The .apply method takes in a function body/defintion to apply to rows or columns\n",
    "- Any time I feel like I need a for-loop for a dataframe, I use .apply\n",
    "- We'll use apply when the built-in pandas methods and operators like +, -, *, >, >=, == are not sufficient\n",
    "- .apply will run a function on each row or column, depending on axis argument\n",
    "- .apply might feel funny b/c it takes in a function as its input"
   ]
  },
  {
   "cell_type": "code",
   "execution_count": 6,
   "id": "2929ce20",
   "metadata": {},
   "outputs": [],
   "source": [
    "# Remember how to \"blow off the loop\" with looping problems\n",
    "# If I need a function to run on every row of a dataframe, I blow off pandas (for second)\n",
    "# Let's say we need to transform \"Sunday\" into \"Sun\", \"Saturday\" into \"Sat\", etc..\n",
    "# Let's pretend we don't have a dataframe, we only have a single string"
   ]
  },
  {
   "cell_type": "code",
   "execution_count": 7,
   "id": "fa4e54e7",
   "metadata": {},
   "outputs": [],
   "source": [
    "# Let's build a simple function that takes in a variable \n",
    "# If the variable is \"Saturday\", then it returns \"Sat\", if \"Sunday\" returns \"Sun\", etc..\n",
    "def abbreviate(string):\n",
    "    if string == \"Saturday\":\n",
    "        return \"Sat\"\n",
    "    elif string == \"Sunday\":\n",
    "        return \"Sun\"\n",
    "    elif string == \"Friday\":\n",
    "        return \"Fri\"\n",
    "    elif string == \"Thursday\":\n",
    "        return \"Thur\""
   ]
  },
  {
   "cell_type": "code",
   "execution_count": 8,
   "id": "257d9b7b",
   "metadata": {},
   "outputs": [
    {
     "data": {
      "text/plain": [
       "('Sat', 'Thur')"
      ]
     },
     "execution_count": 8,
     "metadata": {},
     "output_type": "execute_result"
    }
   ],
   "source": [
    "abbreviate(\"Saturday\"), abbreviate(\"Thursday\")"
   ]
  },
  {
   "cell_type": "code",
   "execution_count": 9,
   "id": "1b53648f",
   "metadata": {},
   "outputs": [
    {
     "data": {
      "text/html": [
       "<div>\n",
       "<style scoped>\n",
       "    .dataframe tbody tr th:only-of-type {\n",
       "        vertical-align: middle;\n",
       "    }\n",
       "\n",
       "    .dataframe tbody tr th {\n",
       "        vertical-align: top;\n",
       "    }\n",
       "\n",
       "    .dataframe thead th {\n",
       "        text-align: right;\n",
       "    }\n",
       "</style>\n",
       "<table border=\"1\" class=\"dataframe\">\n",
       "  <thead>\n",
       "    <tr style=\"text-align: right;\">\n",
       "      <th></th>\n",
       "      <th>total_bill</th>\n",
       "      <th>tip</th>\n",
       "      <th>sex</th>\n",
       "      <th>smoker</th>\n",
       "      <th>day</th>\n",
       "      <th>time</th>\n",
       "      <th>size</th>\n",
       "    </tr>\n",
       "  </thead>\n",
       "  <tbody>\n",
       "    <tr>\n",
       "      <th>1</th>\n",
       "      <td>16.99</td>\n",
       "      <td>1.01</td>\n",
       "      <td>Female</td>\n",
       "      <td>No</td>\n",
       "      <td>Sun</td>\n",
       "      <td>Dinner</td>\n",
       "      <td>2</td>\n",
       "    </tr>\n",
       "    <tr>\n",
       "      <th>2</th>\n",
       "      <td>10.34</td>\n",
       "      <td>1.66</td>\n",
       "      <td>Male</td>\n",
       "      <td>No</td>\n",
       "      <td>Sun</td>\n",
       "      <td>Dinner</td>\n",
       "      <td>3</td>\n",
       "    </tr>\n",
       "    <tr>\n",
       "      <th>3</th>\n",
       "      <td>21.01</td>\n",
       "      <td>3.50</td>\n",
       "      <td>Male</td>\n",
       "      <td>No</td>\n",
       "      <td>Sun</td>\n",
       "      <td>Dinner</td>\n",
       "      <td>3</td>\n",
       "    </tr>\n",
       "    <tr>\n",
       "      <th>4</th>\n",
       "      <td>23.68</td>\n",
       "      <td>3.31</td>\n",
       "      <td>Male</td>\n",
       "      <td>No</td>\n",
       "      <td>Sun</td>\n",
       "      <td>Dinner</td>\n",
       "      <td>2</td>\n",
       "    </tr>\n",
       "    <tr>\n",
       "      <th>5</th>\n",
       "      <td>24.59</td>\n",
       "      <td>3.61</td>\n",
       "      <td>Female</td>\n",
       "      <td>No</td>\n",
       "      <td>Sun</td>\n",
       "      <td>Dinner</td>\n",
       "      <td>4</td>\n",
       "    </tr>\n",
       "  </tbody>\n",
       "</table>\n",
       "</div>"
      ],
      "text/plain": [
       "   total_bill   tip     sex smoker  day    time  size\n",
       "1       16.99  1.01  Female     No  Sun  Dinner     2\n",
       "2       10.34  1.66    Male     No  Sun  Dinner     3\n",
       "3       21.01  3.50    Male     No  Sun  Dinner     3\n",
       "4       23.68  3.31    Male     No  Sun  Dinner     2\n",
       "5       24.59  3.61  Female     No  Sun  Dinner     4"
      ]
     },
     "execution_count": 9,
     "metadata": {},
     "output_type": "execute_result"
    }
   ],
   "source": [
    "# So far, we run functions by typing the function name followed by parentheses\n",
    "# .apply runs the function for us, so we do not use parentheses\n",
    "# .apply will default to applying that function to rows\n",
    "# If we use .apply on a series/column, .apply runs that function on each row of that column\n",
    "# When a function like apply uses another function as its input, that's a higher order function\n",
    "df.day = df.day.apply(abbreviate)\n",
    "df.head()"
   ]
  },
  {
   "cell_type": "markdown",
   "id": "28fbeecf",
   "metadata": {},
   "source": [
    "## .map vs .apply\n",
    "- .map transforms values kind of like an if/elif/elif/elif\n",
    "- .apply applies a function body to rows by default (or columns)\n",
    "- .apply takes a function as its input argument\n",
    "- .apply documentation https://pandas.pydata.org/docs/reference/api/pandas.DataFrame.apply.html\n",
    "- .apply is like a manager that runs the function you send it\n",
    "- because .apply takes a function body, that's why you'll see lambdas going into .apply"
   ]
  },
  {
   "cell_type": "code",
   "execution_count": null,
   "id": "ef1001ee",
   "metadata": {},
   "outputs": [],
   "source": []
  }
 ],
 "metadata": {
  "kernelspec": {
   "display_name": "Python 3 (ipykernel)",
   "language": "python",
   "name": "python3"
  },
  "language_info": {
   "codemirror_mode": {
    "name": "ipython",
    "version": 3
   },
   "file_extension": ".py",
   "mimetype": "text/x-python",
   "name": "python",
   "nbconvert_exporter": "python",
   "pygments_lexer": "ipython3",
   "version": "3.8.12"
  }
 },
 "nbformat": 4,
 "nbformat_minor": 5
}
