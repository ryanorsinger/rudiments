{
 "cells": [
  {
   "cell_type": "code",
   "execution_count": 1,
   "id": "5a4804a4",
   "metadata": {},
   "outputs": [],
   "source": [
    "students = [\n",
    "    {\n",
    "        \"id\": \"100001\",\n",
    "        \"student\": \"Ada Lovelace\",\n",
    "        \"coffee_preference\": \"light\",\n",
    "        \"course\": \"web development\",\n",
    "        \"grades\": [70, 91, 82, 71],\n",
    "        \"pets\": [{\"species\": \"horse\", \"age\": 8}],\n",
    "    },\n",
    "    {\n",
    "        \"id\": \"100002\",\n",
    "        \"student\": \"Thomas Bayes\",\n",
    "        \"coffee_preference\": \"medium\",\n",
    "        \"course\": \"data science\",\n",
    "        \"grades\": [75, 73, 86, 100],\n",
    "        \"pets\": [],\n",
    "    },\n",
    "    {\n",
    "        \"id\": \"100003\",\n",
    "        \"student\": \"Marie Curie\",\n",
    "        \"coffee_preference\": \"light\",\n",
    "        \"course\": \"web development\",\n",
    "        \"grades\": [70, 89, 69, 65],\n",
    "        \"pets\": [{\"species\": \"cat\", \"age\": 0}],\n",
    "    },\n",
    "    {\n",
    "        \"id\": \"100004\",\n",
    "        \"student\": \"Grace Hopper\",\n",
    "        \"coffee_preference\": \"dark\",\n",
    "        \"course\": \"data science\",\n",
    "        \"grades\": [73, 66, 83, 92],\n",
    "        \"pets\": [{\"species\": \"dog\", \"age\": 4}, {\"species\": \"cat\", \"age\": 4}],\n",
    "    },\n",
    "    {\n",
    "        \"id\": \"100005\",\n",
    "        \"student\": \"Alan Turing\",\n",
    "        \"coffee_preference\": \"dark\",\n",
    "        \"course\": \"web development\",\n",
    "        \"grades\": [78, 98, 85, 65],\n",
    "        \"pets\": [\n",
    "            {\"species\": \"horse\", \"age\": 6},\n",
    "            {\"species\": \"horse\", \"age\": 7},\n",
    "            {\"species\": \"dog\", \"age\": 5},\n",
    "        ],\n",
    "    },\n",
    "    {\n",
    "        \"id\": \"100006\",\n",
    "        \"student\": \"Rosalind Franklin\",\n",
    "        \"coffee_preference\": \"dark\",\n",
    "        \"course\": \"data science\",\n",
    "        \"grades\": [76, 70, 96, 81],\n",
    "        \"pets\": [],\n",
    "    },\n",
    "    {\n",
    "        \"id\": \"100007\",\n",
    "        \"student\": \"Elizabeth Blackwell\",\n",
    "        \"coffee_preference\": \"dark\",\n",
    "        \"course\": \"web development\",\n",
    "        \"grades\": [69, 94, 89, 86],\n",
    "        \"pets\": [{\"species\": \"cat\", \"age\": 10}],\n",
    "    },\n",
    "    {\n",
    "        \"id\": \"100008\",\n",
    "        \"student\": \"Rene Descartes\",\n",
    "        \"coffee_preference\": \"medium\",\n",
    "        \"course\": \"data science\",\n",
    "        \"grades\": [87, 79, 90, 99],\n",
    "        \"pets\": [{\"species\": \"cat\", \"age\": 10}, {\"species\": \"cat\", \"age\": 8}],\n",
    "    },\n",
    "    {\n",
    "        \"id\": \"100009\",\n",
    "        \"student\": \"Ahmed Zewail\",\n",
    "        \"coffee_preference\": \"medium\",\n",
    "        \"course\": \"data science\",\n",
    "        \"grades\": [74, 99, 93, 89],\n",
    "        \"pets\": [{\"species\": \"cat\", \"age\": 0}, {\"species\": \"cat\", \"age\": 0}],\n",
    "    },\n",
    "    {\n",
    "        \"id\": \"100010\",\n",
    "        \"student\": \"Chien-Shiung Wu\",\n",
    "        \"coffee_preference\": \"medium\",\n",
    "        \"course\": \"web development\",\n",
    "        \"grades\": [82, 92, 91, 65],\n",
    "        \"pets\": [{\"species\": \"cat\", \"age\": 8}],\n",
    "    },\n",
    "    {\n",
    "        \"id\": \"100011\",\n",
    "        \"student\": \"William Sanford Nye\",\n",
    "        \"coffee_preference\": \"dark\",\n",
    "        \"course\": \"data science\",\n",
    "        \"grades\": [70, 92, 65, 99],\n",
    "        \"pets\": [{\"species\": \"cat\", \"age\": 8}, {\"species\": \"cat\", \"age\": 5}],\n",
    "    },\n",
    "    {\n",
    "        \"id\": \"100012\",\n",
    "        \"student\": \"Carl Sagan\",\n",
    "        \"coffee_preference\": \"medium\",\n",
    "        \"course\": \"data science\",\n",
    "        \"grades\": [100, 86, 91, 87],\n",
    "        \"pets\": [{\"species\": \"cat\", \"age\": 10}],\n",
    "    },\n",
    "    {\n",
    "        \"id\": \"100013\",\n",
    "        \"student\": \"Jane Goodall\",\n",
    "        \"coffee_preference\": \"light\",\n",
    "        \"course\": \"web development\",\n",
    "        \"grades\": [80, 70, 68, 98],\n",
    "        \"pets\": [{\"species\": \"horse\", \"age\": 4}],\n",
    "    },\n",
    "    {\n",
    "        \"id\": \"100014\",\n",
    "        \"student\": \"Richard Feynman\",\n",
    "        \"coffee_preference\": \"medium\",\n",
    "        \"course\": \"web development\",\n",
    "        \"grades\": [73, 99, 86, 98],\n",
    "        \"pets\": [{\"species\": \"dog\", \"age\": 6}],\n",
    "    },\n",
    "]"
   ]
  },
  {
   "cell_type": "markdown",
   "id": "605e9549",
   "metadata": {},
   "source": [
    "# How to Solve Looping Problems\n",
    "- One weird trick to solving looping problems: blow off the loop.\n",
    "- Why?\n",
    "    - Simplify the problem\n",
    "    - Reducing cognitive overhead\n",
    "    - Emotionally, solving a simpler problem is good for your morale\n",
    "    - Create emotional momentum by solving simpler problems sequentially vs. one big perfect solution the first time"
   ]
  },
  {
   "cell_type": "code",
   "execution_count": 2,
   "id": "978951a4",
   "metadata": {},
   "outputs": [
    {
     "data": {
      "text/plain": [
       "{'id': '100002',\n",
       " 'student': 'Thomas Bayes',\n",
       " 'coffee_preference': 'medium',\n",
       " 'course': 'data science',\n",
       " 'grades': [75, 73, 86, 100],\n",
       " 'pets': []}"
      ]
     },
     "execution_count": 2,
     "metadata": {},
     "output_type": "execute_result"
    }
   ],
   "source": [
    "# Exercise\n",
    "# What's the average of all student grades?\n",
    "# Initially, we see a list of dictionaries where one key is another list of numbers\n",
    "\n",
    "# step 1 is to blow off the loop. (both mentally and in our code)\n",
    "# step 2 is we make a singular variable that holds the first item on that list\n",
    "student = students[1]\n",
    "student"
   ]
  },
  {
   "cell_type": "code",
   "execution_count": 3,
   "id": "95699af5",
   "metadata": {},
   "outputs": [],
   "source": [
    "# step 3: ok, what is the question asking about, if we only had one thing from that list?\n",
    "# Problem: average the grades\n",
    "# Step 4: think about and plan out what we need to do to solve the problem in a singular case, for ONE item from the list"
   ]
  },
  {
   "cell_type": "code",
   "execution_count": 4,
   "id": "cd43a848",
   "metadata": {},
   "outputs": [
    {
     "data": {
      "text/plain": [
       "[75, 73, 86, 100]"
      ]
     },
     "execution_count": 4,
     "metadata": {},
     "output_type": "execute_result"
    }
   ],
   "source": [
    "student[\"grades\"]"
   ]
  },
  {
   "cell_type": "code",
   "execution_count": 5,
   "id": "627f964c",
   "metadata": {},
   "outputs": [
    {
     "data": {
      "text/plain": [
       "[75, 73, 86, 100]"
      ]
     },
     "execution_count": 5,
     "metadata": {},
     "output_type": "execute_result"
    }
   ],
   "source": [
    "# I know I need a list to hold all of the grades we'll end up seeing\n",
    "all_grades = []\n",
    "\n",
    "# Let's iterate through the list of student grades, add them to the overall list of grades\n",
    "# then calculate sum(grades) / len(grades) to get the average\n",
    "\n",
    "for grade in student[\"grades\"]:\n",
    "    all_grades.append(grade)\n",
    "    \n",
    "    \n",
    "all_grades"
   ]
  },
  {
   "cell_type": "code",
   "execution_count": 6,
   "id": "a2dc6567",
   "metadata": {},
   "outputs": [
    {
     "data": {
      "text/plain": [
       "83.5"
      ]
     },
     "execution_count": 6,
     "metadata": {},
     "output_type": "execute_result"
    }
   ],
   "source": [
    "sum(all_grades) / len(all_grades)"
   ]
  },
  {
   "cell_type": "code",
   "execution_count": 7,
   "id": "e8f793b1",
   "metadata": {},
   "outputs": [
    {
     "data": {
      "text/plain": [
       "82.92857142857143"
      ]
     },
     "execution_count": 7,
     "metadata": {},
     "output_type": "execute_result"
    }
   ],
   "source": [
    "# Now that you have a solution that works for one thing on that list...\n",
    "# we can bring the loop back\n",
    "\n",
    "all_grades = []\n",
    "\n",
    "# Let's iterate through the list of student grades, add them to the overall list of grades\n",
    "# then calculate sum(grades) / len(grades) to get the average\n",
    "for student in students:\n",
    "    for grade in student[\"grades\"]:\n",
    "        all_grades.append(grade)\n",
    "        \n",
    "sum(all_grades) / len(all_grades)"
   ]
  },
  {
   "cell_type": "markdown",
   "id": "e8afebf4",
   "metadata": {},
   "source": [
    "## Exercise\n",
    "- Count the number of pets from data science students in the above data"
   ]
  },
  {
   "cell_type": "code",
   "execution_count": 8,
   "id": "f16e87af",
   "metadata": {},
   "outputs": [
    {
     "data": {
      "text/plain": [
       "{'id': '100004',\n",
       " 'student': 'Grace Hopper',\n",
       " 'coffee_preference': 'dark',\n",
       " 'course': 'data science',\n",
       " 'grades': [73, 66, 83, 92],\n",
       " 'pets': [{'species': 'dog', 'age': 4}, {'species': 'cat', 'age': 4}]}"
      ]
     },
     "execution_count": 8,
     "metadata": {},
     "output_type": "execute_result"
    }
   ],
   "source": [
    "# Step 1: blow off the loop (mentally and we literally don't write a loop yet)\n",
    "# Step 2: set a singular variable for the first thing off that list\n",
    "student = students[3]\n",
    "student"
   ]
  },
  {
   "cell_type": "code",
   "execution_count": 9,
   "id": "6119483d",
   "metadata": {},
   "outputs": [],
   "source": [
    "# Step 3: determine the algorithm: sequence, selection, iteration to solve the original problem for one single item\n",
    "\n",
    "# Good plan with counting algorithms is start with a counter of zero.\n",
    "number_of_pets = 0"
   ]
  },
  {
   "cell_type": "code",
   "execution_count": 10,
   "id": "57e99f56",
   "metadata": {},
   "outputs": [
    {
     "data": {
      "text/plain": [
       "2"
      ]
     },
     "execution_count": 10,
     "metadata": {},
     "output_type": "execute_result"
    }
   ],
   "source": [
    "# Now we have to ask a question about our single student - is this a data science student?\n",
    "if student[\"course\"] == \"data science\":\n",
    "    number_of_pets += len(student[\"pets\"])\n",
    "    \n",
    "number_of_pets"
   ]
  },
  {
   "cell_type": "code",
   "execution_count": 11,
   "id": "b9a323ab",
   "metadata": {},
   "outputs": [
    {
     "data": {
      "text/plain": [
       "[{'species': 'dog', 'age': 4}, {'species': 'cat', 'age': 4}]"
      ]
     },
     "execution_count": 11,
     "metadata": {},
     "output_type": "execute_result"
    }
   ],
   "source": [
    "student[\"pets\"]"
   ]
  },
  {
   "cell_type": "code",
   "execution_count": 12,
   "id": "307a6100",
   "metadata": {},
   "outputs": [
    {
     "data": {
      "text/plain": [
       "2"
      ]
     },
     "execution_count": 12,
     "metadata": {},
     "output_type": "execute_result"
    }
   ],
   "source": [
    "# How many pets does this one specific student have?\n",
    "len(student[\"pets\"])"
   ]
  },
  {
   "cell_type": "code",
   "execution_count": 13,
   "id": "7f28c4aa",
   "metadata": {},
   "outputs": [
    {
     "data": {
      "text/plain": [
       "9"
      ]
     },
     "execution_count": 13,
     "metadata": {},
     "output_type": "execute_result"
    }
   ],
   "source": [
    "# Step 4: bring back the loop\n",
    "\n",
    "number_of_pets = 0\n",
    "\n",
    "for student in students:\n",
    "    if student[\"course\"] == \"data science\":\n",
    "        number_of_pets += len(student[\"pets\"])\n",
    "    \n",
    "number_of_pets"
   ]
  },
  {
   "cell_type": "code",
   "execution_count": 14,
   "id": "bd8f152e",
   "metadata": {},
   "outputs": [],
   "source": [
    "# We use += to have a rolling total, a summation, a rolling tab"
   ]
  },
  {
   "cell_type": "code",
   "execution_count": 15,
   "id": "e7fbac6d",
   "metadata": {},
   "outputs": [
    {
     "data": {
      "text/plain": [
       "1.99"
      ]
     },
     "execution_count": 15,
     "metadata": {},
     "output_type": "execute_result"
    }
   ],
   "source": [
    "total = 0\n",
    "total += 1.99\n",
    "total"
   ]
  },
  {
   "cell_type": "code",
   "execution_count": 16,
   "id": "4de1dc82",
   "metadata": {},
   "outputs": [
    {
     "data": {
      "text/plain": [
       "8.98"
      ]
     },
     "execution_count": 16,
     "metadata": {},
     "output_type": "execute_result"
    }
   ],
   "source": [
    "total += 6.99\n",
    "total"
   ]
  },
  {
   "cell_type": "code",
   "execution_count": 17,
   "id": "a802a9de",
   "metadata": {},
   "outputs": [
    {
     "data": {
      "text/plain": [
       "18.979"
      ]
     },
     "execution_count": 17,
     "metadata": {},
     "output_type": "execute_result"
    }
   ],
   "source": [
    "total += 9.999\n",
    "total"
   ]
  },
  {
   "cell_type": "markdown",
   "id": "0dff498c",
   "metadata": {},
   "source": [
    "# 20 Python Data Structure Manipulation Exercises\n",
    "\n",
    "The following questions reference the `students` data structure below. Write\n",
    "the python code to answer the following questions:\n",
    "\n",
    "1. How many students are there?\n",
    "1. How many students prefer light coffee? For each type of coffee roast?\n",
    "1. How many types of each pet are there?\n",
    "1. How many grades does each student have? Do they all have the same number of\n",
    "grades?\n",
    "1. What is each student's grade average?\n",
    "1. How many pets does each student have?\n",
    "1. How many students are in web development? data science?\n",
    "1. What is the average number of pets for students in web development?\n",
    "1. What is the average pet age for students in data science?\n",
    "1. What is most frequent coffee preference for data science students?\n",
    "1. What is the least frequent coffee preference for web development students?\n",
    "1. What is the average grade for students with at least 2 pets?\n",
    "1. How many students have 3 pets?\n",
    "1. What is the average grade for students with 0 pets?\n",
    "1. What is the average grade for web development students? data science\n",
    "students?\n",
    "1. What is the average grade range (i.e. highest grade - lowest grade) for\n",
    "dark coffee drinkers?\n",
    "1. What is the average number of pets for medium coffee drinkers?\n",
    "1. What is the most common type of pet for web development students?\n",
    "1. What is the average name length?\n",
    "1. What is the highest pet age for light coffee drinkers?\n"
   ]
  },
  {
   "cell_type": "code",
   "execution_count": 31,
   "id": "a430e88f",
   "metadata": {},
   "outputs": [
    {
     "data": {
      "text/plain": [
       "14"
      ]
     },
     "execution_count": 31,
     "metadata": {},
     "output_type": "execute_result"
    }
   ],
   "source": [
    "# Exercise 1\n",
    "# How many students are there?\n",
    "# A simpler problem is how many entries are there on this list?\n",
    "len(students)"
   ]
  },
  {
   "cell_type": "code",
   "execution_count": 32,
   "id": "029cc7a2",
   "metadata": {},
   "outputs": [
    {
     "data": {
      "text/plain": [
       "14"
      ]
     },
     "execution_count": 32,
     "metadata": {},
     "output_type": "execute_result"
    }
   ],
   "source": [
    "# Exercise 1\n",
    "# How many students are there?\n",
    "# What if we didn't know that the \"len\" function exists?\n",
    "\n",
    "count = 0\n",
    "for student in students:\n",
    "    count += 1\n",
    "\n",
    "count"
   ]
  },
  {
   "cell_type": "code",
   "execution_count": 34,
   "id": "c2a24e96",
   "metadata": {},
   "outputs": [
    {
     "data": {
      "text/plain": [
       "3"
      ]
     },
     "execution_count": 34,
     "metadata": {},
     "output_type": "execute_result"
    }
   ],
   "source": [
    "# Exercise 2\n",
    "# How many students prefer light coffee? For each type of coffee roast?\n",
    "light_coffee_drinkers = 0\n",
    "# student = students[0] now we turn this singular variable into the for loop's singular variable\n",
    "\n",
    "for student in students:\n",
    "    if student[\"coffee_preference\"] == \"light\":\n",
    "        light_coffee_drinkers += 1\n",
    "    \n",
    "light_coffee_drinkers"
   ]
  },
  {
   "cell_type": "code",
   "execution_count": 41,
   "id": "db9e52ed",
   "metadata": {
    "scrolled": true
   },
   "outputs": [
    {
     "data": {
      "text/plain": [
       "{'light': 1}"
      ]
     },
     "execution_count": 41,
     "metadata": {},
     "output_type": "execute_result"
    }
   ],
   "source": [
    "# Exercise 2\n",
    "# For each type of coffee roast?\n",
    "# I'm setting up a dictionary to hold roast types as keys and the counts as the values\n",
    "# Running through this solution without the loop\n",
    "roasts = {}\n",
    "\n",
    "# for now: \n",
    "student = students[0]\n",
    "\n",
    "preference = student[\"coffee_preference\"]\n",
    "preference\n",
    "\n",
    "# If my preferences already has that roast type present, then increment\n",
    "if preference in roasts.keys():\n",
    "    roasts[preference] += 1\n",
    "else: # if the preference does not exist in the dictionary of roasts, add it\n",
    "    roasts[preference] = 1\n",
    "    \n",
    "roasts"
   ]
  },
  {
   "cell_type": "code",
   "execution_count": 42,
   "id": "25f91678",
   "metadata": {},
   "outputs": [
    {
     "data": {
      "text/plain": [
       "{'light': 3, 'medium': 6, 'dark': 5}"
      ]
     },
     "execution_count": 42,
     "metadata": {},
     "output_type": "execute_result"
    }
   ],
   "source": [
    "# Looks like I have a solution that works for a single student.\n",
    "# Let's bring back the loop to iterate through all students\n",
    "roasts = {}\n",
    "\n",
    "for student in students:\n",
    "    preference = student[\"coffee_preference\"]\n",
    "    \n",
    "    # Check if this student's preference exists in the dictionary of roasts\n",
    "    # if so, increment by 1, since each student is one person\n",
    "    if preference in roasts.keys():\n",
    "        roasts[preference] += 1\n",
    "    else: # if the preference does not exist in the dictionary of roasts, initialize to 1\n",
    "        roasts[preference] = 1\n",
    "    \n",
    "roasts"
   ]
  },
  {
   "cell_type": "code",
   "execution_count": 49,
   "id": "82e6bb82",
   "metadata": {},
   "outputs": [
    {
     "data": {
      "text/plain": [
       "[]"
      ]
     },
     "execution_count": 49,
     "metadata": {},
     "output_type": "execute_result"
    }
   ],
   "source": [
    "# Exercise 3\n",
    "# How many types of each pet are there?\n",
    "# One approach is to \"flatten\" the data so I end up with a list of pets\n",
    "# Where each pet is a string\n",
    "\n",
    "# Set up an empty list to hold pets\n",
    "pets = []\n",
    "\n",
    "student = students[1] # blow off the loop (for now)\n",
    "for pet in student[\"pets\"]:\n",
    "    pets.append(pet[\"species\"])\n",
    "    \n",
    "pets"
   ]
  },
  {
   "cell_type": "code",
   "execution_count": 50,
   "id": "471786eb",
   "metadata": {},
   "outputs": [
    {
     "data": {
      "text/plain": [
       "['horse',\n",
       " 'cat',\n",
       " 'dog',\n",
       " 'cat',\n",
       " 'horse',\n",
       " 'horse',\n",
       " 'dog',\n",
       " 'cat',\n",
       " 'cat',\n",
       " 'cat',\n",
       " 'cat',\n",
       " 'cat',\n",
       " 'cat',\n",
       " 'cat',\n",
       " 'cat',\n",
       " 'cat',\n",
       " 'horse',\n",
       " 'dog']"
      ]
     },
     "execution_count": 50,
     "metadata": {},
     "output_type": "execute_result"
    }
   ],
   "source": [
    "# Looks like the above solution works for one, single student\n",
    "# so let's bring back the outer loop\n",
    "\n",
    "pets = []\n",
    "for student in students: # this replaces the student[0] piece\n",
    "    for pet in student[\"pets\"]:\n",
    "        pets.append(pet[\"species\"])\n",
    "pets"
   ]
  },
  {
   "cell_type": "code",
   "execution_count": 52,
   "id": "90489ba7",
   "metadata": {},
   "outputs": [
    {
     "data": {
      "text/plain": [
       "{'horse': 4, 'cat': 11, 'dog': 3}"
      ]
     },
     "execution_count": 52,
     "metadata": {},
     "output_type": "execute_result"
    }
   ],
   "source": [
    "# Now that I have a list with a string for each specific pet species\n",
    "# I can borrow some of my coffee_preference code and modify it\n",
    "\n",
    "pet_species_counts = {}\n",
    "\n",
    "for pet in pets:\n",
    "    # if the pet species already exists, increment the counter\n",
    "    if pet in pet_species_counts.keys():\n",
    "        pet_species_counts[pet] += 1\n",
    "    else:\n",
    "        pet_species_counts[pet] = 1 # if not already set, initialize to 1\n",
    "    \n",
    "pet_species_counts "
   ]
  },
  {
   "cell_type": "code",
   "execution_count": null,
   "id": "2c86ef3f",
   "metadata": {},
   "outputs": [],
   "source": []
  }
 ],
 "metadata": {
  "kernelspec": {
   "display_name": "Python 3 (ipykernel)",
   "language": "python",
   "name": "python3"
  },
  "language_info": {
   "codemirror_mode": {
    "name": "ipython",
    "version": 3
   },
   "file_extension": ".py",
   "mimetype": "text/x-python",
   "name": "python",
   "nbconvert_exporter": "python",
   "pygments_lexer": "ipython3",
   "version": "3.8.12"
  }
 },
 "nbformat": 4,
 "nbformat_minor": 5
}
