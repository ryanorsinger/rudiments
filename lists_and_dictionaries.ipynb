{
 "cells": [
  {
   "cell_type": "code",
   "execution_count": 1,
   "id": "08062e26",
   "metadata": {},
   "outputs": [
    {
     "data": {
      "text/plain": [
       "['chips', 'apple slices', 'cashews']"
      ]
     },
     "execution_count": 1,
     "metadata": {},
     "output_type": "execute_result"
    }
   ],
   "source": [
    "# Lists are finite collections of objects\n",
    "# Order matters\n",
    "# Index starts at 0\n",
    "snacks = [\"chips\", \"apple slices\", \"cashews\"]\n",
    "snacks"
   ]
  },
  {
   "cell_type": "code",
   "execution_count": 2,
   "id": "dcb2cbc9",
   "metadata": {},
   "outputs": [
    {
     "data": {
      "text/plain": [
       "'chips'"
      ]
     },
     "execution_count": 2,
     "metadata": {},
     "output_type": "execute_result"
    }
   ],
   "source": [
    "# List index allows us to access elements of a list\n",
    "# Remember: lists are zero indexed in Python\n",
    "snacks[0]"
   ]
  },
  {
   "cell_type": "code",
   "execution_count": 3,
   "id": "9841ae41",
   "metadata": {},
   "outputs": [
    {
     "data": {
      "text/plain": [
       "'apple slices'"
      ]
     },
     "execution_count": 3,
     "metadata": {},
     "output_type": "execute_result"
    }
   ],
   "source": [
    "index = 1\n",
    "snacks[index]"
   ]
  },
  {
   "cell_type": "code",
   "execution_count": 4,
   "id": "90db262b",
   "metadata": {},
   "outputs": [
    {
     "data": {
      "text/plain": [
       "{'calories': 100, 'brand': 'ruffles', 'price': '$1.50'}"
      ]
     },
     "execution_count": 4,
     "metadata": {},
     "output_type": "execute_result"
    }
   ],
   "source": [
    "# Dictionaries are finite collections of objects\n",
    "# Indexes come from strings (think labels)\n",
    "# A single dictionary\n",
    "chips = {} # defines an empty dictionary\n",
    "chips[\"calories\"] = 100\n",
    "chips[\"brand\"] = \"ruffles\"\n",
    "chips[\"price\"] = \"$1.50\"\n",
    "chips"
   ]
  },
  {
   "cell_type": "code",
   "execution_count": 5,
   "id": "45a4d6fd",
   "metadata": {},
   "outputs": [
    {
     "data": {
      "text/plain": [
       "{'calories': 150, 'brand': 'HEB', 'price': {'sale': 4, 'regular': 6}}"
      ]
     },
     "execution_count": 5,
     "metadata": {},
     "output_type": "execute_result"
    }
   ],
   "source": [
    "cashews = {\n",
    "    \"calories\": 150, \n",
    "    \"brand\": \"HEB\", \n",
    "    \"price\": {\n",
    "        \"sale\": 4,\n",
    "        \"regular\": 6\n",
    "    },\n",
    "}\n",
    "cashews"
   ]
  },
  {
   "cell_type": "code",
   "execution_count": 6,
   "id": "6a4d606c",
   "metadata": {},
   "outputs": [
    {
     "data": {
      "text/plain": [
       "'apple slices'"
      ]
     },
     "execution_count": 6,
     "metadata": {},
     "output_type": "execute_result"
    }
   ],
   "source": [
    "snacks[1]"
   ]
  },
  {
   "cell_type": "code",
   "execution_count": 7,
   "id": "baeb8f92",
   "metadata": {},
   "outputs": [
    {
     "data": {
      "text/plain": [
       "{'sale': 4, 'regular': 6}"
      ]
     },
     "execution_count": 7,
     "metadata": {},
     "output_type": "execute_result"
    }
   ],
   "source": [
    "cashews[\"price\"]"
   ]
  },
  {
   "cell_type": "code",
   "execution_count": 8,
   "id": "71eb8977",
   "metadata": {},
   "outputs": [
    {
     "data": {
      "text/plain": [
       "4"
      ]
     },
     "execution_count": 8,
     "metadata": {},
     "output_type": "execute_result"
    }
   ],
   "source": [
    "cashews[\"price\"][\"sale\"]"
   ]
  },
  {
   "cell_type": "code",
   "execution_count": 9,
   "id": "f9250517",
   "metadata": {},
   "outputs": [
    {
     "data": {
      "text/plain": [
       "['sale']"
      ]
     },
     "execution_count": 9,
     "metadata": {},
     "output_type": "execute_result"
    }
   ],
   "source": [
    "[\"sale\"]"
   ]
  },
  {
   "cell_type": "code",
   "execution_count": 10,
   "id": "62fa40e0",
   "metadata": {},
   "outputs": [
    {
     "data": {
      "text/plain": [
       "10"
      ]
     },
     "execution_count": 10,
     "metadata": {},
     "output_type": "execute_result"
    }
   ],
   "source": [
    "cashews[\"price\"][\"sale\"] + cashews[\"price\"][\"regular\"]"
   ]
  },
  {
   "cell_type": "code",
   "execution_count": 11,
   "id": "4920a22c",
   "metadata": {},
   "outputs": [
    {
     "data": {
      "text/plain": [
       "{'sale': 4, 'regular': 6}"
      ]
     },
     "execution_count": 11,
     "metadata": {},
     "output_type": "execute_result"
    }
   ],
   "source": [
    "x = cashews[\"price\"]\n",
    "x"
   ]
  },
  {
   "cell_type": "code",
   "execution_count": 12,
   "id": "9831768e",
   "metadata": {},
   "outputs": [
    {
     "data": {
      "text/plain": [
       "4"
      ]
     },
     "execution_count": 12,
     "metadata": {},
     "output_type": "execute_result"
    }
   ],
   "source": [
    "x[\"sale\"]"
   ]
  },
  {
   "cell_type": "code",
   "execution_count": 13,
   "id": "32cc620d",
   "metadata": {},
   "outputs": [
    {
     "data": {
      "text/plain": [
       "10"
      ]
     },
     "execution_count": 13,
     "metadata": {},
     "output_type": "execute_result"
    }
   ],
   "source": [
    "x[\"sale\"] + x[\"regular\"]"
   ]
  },
  {
   "cell_type": "code",
   "execution_count": 14,
   "id": "ccc92a51",
   "metadata": {},
   "outputs": [
    {
     "data": {
      "text/plain": [
       "[{'type': 'water', 'calories': 0, 'number_consumed': 7, 'caffeinated': False},\n",
       " {'type': 'orange juice',\n",
       "  'calories': 220,\n",
       "  'number_consumed': 4,\n",
       "  'caffeinated': False},\n",
       " {'type': 'gatorade',\n",
       "  'calories': 140,\n",
       "  'number_consumed': 1,\n",
       "  'caffeinated': False},\n",
       " {'type': 'cappuccino',\n",
       "  'calories': 350,\n",
       "  'number_consumed': 2,\n",
       "  'caffeinated': True},\n",
       " {'type': 'hot tea', 'calories': 5, 'number_consumed': 3, 'caffeinated': True}]"
      ]
     },
     "execution_count": 14,
     "metadata": {},
     "output_type": "execute_result"
    }
   ],
   "source": [
    "drinks = [\n",
    "    {\n",
    "        \"type\": \"water\",\n",
    "        \"calories\": 0,\n",
    "        \"number_consumed\": 7,\n",
    "        \"caffeinated\": False\n",
    "    },\n",
    "    {\n",
    "        \"type\": \"orange juice\",\n",
    "        \"calories\": 220,\n",
    "        \"number_consumed\": 4,\n",
    "        \"caffeinated\": False\n",
    "    },\n",
    "    {\n",
    "        \"type\": \"gatorade\",\n",
    "        \"calories\": 140,\n",
    "        \"number_consumed\": 1,\n",
    "        \"caffeinated\": False\n",
    "    },\n",
    "    {\n",
    "        \"type\": \"cappuccino\",\n",
    "        \"calories\": 350,\n",
    "        \"number_consumed\": 2,\n",
    "        \"caffeinated\": True\n",
    "    },\n",
    "    {\n",
    "        \"type\": \"hot tea\",\n",
    "        \"calories\": 5,\n",
    "        \"number_consumed\": 3,\n",
    "        \"caffeinated\": True\n",
    "    }\n",
    "]\n",
    "\n",
    "drinks"
   ]
  },
  {
   "cell_type": "code",
   "execution_count": 15,
   "id": "e2d25c2c",
   "metadata": {},
   "outputs": [
    {
     "name": "stdout",
     "output_type": "stream",
     "text": [
      "{'type': 'water', 'calories': 0, 'number_consumed': 7, 'caffeinated': False}\n",
      "{'type': 'orange juice', 'calories': 220, 'number_consumed': 4, 'caffeinated': False}\n",
      "{'type': 'gatorade', 'calories': 140, 'number_consumed': 1, 'caffeinated': False}\n",
      "{'type': 'cappuccino', 'calories': 350, 'number_consumed': 2, 'caffeinated': True}\n",
      "{'type': 'hot tea', 'calories': 5, 'number_consumed': 3, 'caffeinated': True}\n"
     ]
    }
   ],
   "source": [
    "# Loop through the list of dictionaries and output the total number of calories consumed\n",
    "for drink in drinks:\n",
    "    print(drink)"
   ]
  },
  {
   "cell_type": "code",
   "execution_count": 16,
   "id": "b6215986",
   "metadata": {},
   "outputs": [
    {
     "data": {
      "text/plain": [
       "{'type': 'water', 'calories': 0, 'number_consumed': 7, 'caffeinated': False}"
      ]
     },
     "execution_count": 16,
     "metadata": {},
     "output_type": "execute_result"
    }
   ],
   "source": [
    "# Loop through the list of dictionaries and output the total number of calories consumed\n",
    "total = 0\n",
    "\n",
    "drink = drinks[0] \n",
    "drink"
   ]
  },
  {
   "cell_type": "code",
   "execution_count": 17,
   "id": "5e250c81",
   "metadata": {},
   "outputs": [
    {
     "data": {
      "text/plain": [
       "0"
      ]
     },
     "execution_count": 17,
     "metadata": {},
     "output_type": "execute_result"
    }
   ],
   "source": [
    "# total = total + drink[\"calories\"] * drink[\"number_consumed\"]\n",
    "total += drink[\"calories\"] * drink[\"number_consumed\"]\n",
    "total"
   ]
  },
  {
   "cell_type": "code",
   "execution_count": 18,
   "id": "3784dfcb",
   "metadata": {},
   "outputs": [
    {
     "data": {
      "text/plain": [
       "1735"
      ]
     },
     "execution_count": 18,
     "metadata": {},
     "output_type": "execute_result"
    }
   ],
   "source": [
    "for drink in drinks:\n",
    "    total += drink[\"calories\"] * drink[\"number_consumed\"]\n",
    "total"
   ]
  },
  {
   "cell_type": "code",
   "execution_count": 19,
   "id": "40b5e371",
   "metadata": {},
   "outputs": [
    {
     "data": {
      "text/plain": [
       "{'type': 'water', 'calories': 0, 'number_consumed': 7, 'caffeinated': False}"
      ]
     },
     "execution_count": 19,
     "metadata": {},
     "output_type": "execute_result"
    }
   ],
   "source": [
    "# let's only calculate calories (calories * number_consumed) for non-caffeinated beverages\n",
    "calories = 0\n",
    "drink = drinks[0]\n",
    "drink"
   ]
  },
  {
   "cell_type": "code",
   "execution_count": 20,
   "id": "d0f9f34d",
   "metadata": {},
   "outputs": [],
   "source": [
    "if drink['caffeinated'] == False:\n",
    "    calories += drink[\"calories\"] * drink[\"number_consumed\"]\n"
   ]
  },
  {
   "cell_type": "code",
   "execution_count": 21,
   "id": "8be422de",
   "metadata": {},
   "outputs": [
    {
     "data": {
      "text/plain": [
       "0"
      ]
     },
     "execution_count": 21,
     "metadata": {},
     "output_type": "execute_result"
    }
   ],
   "source": [
    "calories"
   ]
  },
  {
   "cell_type": "code",
   "execution_count": 22,
   "id": "5279c46c",
   "metadata": {},
   "outputs": [],
   "source": [
    "for drink in drinks:\n",
    "    if drink['caffeinated'] == False:\n",
    "        calories += drink[\"calories\"] * drink[\"number_consumed\"]\n"
   ]
  },
  {
   "cell_type": "code",
   "execution_count": 23,
   "id": "84f89b7b",
   "metadata": {},
   "outputs": [
    {
     "data": {
      "text/plain": [
       "1020"
      ]
     },
     "execution_count": 23,
     "metadata": {},
     "output_type": "execute_result"
    }
   ],
   "source": [
    "# Total number of calories from non-caffeinated beverages\n",
    "calories"
   ]
  },
  {
   "cell_type": "code",
   "execution_count": 24,
   "id": "6e53b6ef",
   "metadata": {},
   "outputs": [],
   "source": [
    "students = [\n",
    "    {\n",
    "        \"id\": \"100001\",\n",
    "        \"student\": \"Ada Lovelace\",\n",
    "        \"coffee_preference\": \"light\",\n",
    "        \"course\": \"web development\",\n",
    "        \"grades\": [70, 91, 82, 71],\n",
    "        \"pets\": [{\"species\": \"horse\", \"age\": 8}],\n",
    "    },\n",
    "    {\n",
    "        \"id\": \"100002\",\n",
    "        \"student\": \"Thomas Bayes\",\n",
    "        \"coffee_preference\": \"medium\",\n",
    "        \"course\": \"data science\",\n",
    "        \"grades\": [75, 73, 86, 100],\n",
    "        \"pets\": [],\n",
    "    },\n",
    "    {\n",
    "        \"id\": \"100003\",\n",
    "        \"student\": \"Marie Curie\",\n",
    "        \"coffee_preference\": \"light\",\n",
    "        \"course\": \"web development\",\n",
    "        \"grades\": [70, 89, 69, 65],\n",
    "        \"pets\": [{\"species\": \"cat\", \"age\": 0}],\n",
    "    },\n",
    "    {\n",
    "        \"id\": \"100004\",\n",
    "        \"student\": \"Grace Hopper\",\n",
    "        \"coffee_preference\": \"dark\",\n",
    "        \"course\": \"data science\",\n",
    "        \"grades\": [73, 66, 83, 92],\n",
    "        \"pets\": [{\"species\": \"dog\", \"age\": 4}, {\"species\": \"cat\", \"age\": 4}],\n",
    "    },\n",
    "    {\n",
    "        \"id\": \"100005\",\n",
    "        \"student\": \"Alan Turing\",\n",
    "        \"coffee_preference\": \"dark\",\n",
    "        \"course\": \"web development\",\n",
    "        \"grades\": [78, 98, 85, 65],\n",
    "        \"pets\": [\n",
    "            {\"species\": \"horse\", \"age\": 6},\n",
    "            {\"species\": \"horse\", \"age\": 7},\n",
    "            {\"species\": \"dog\", \"age\": 5},\n",
    "        ],\n",
    "    },\n",
    "    {\n",
    "        \"id\": \"100006\",\n",
    "        \"student\": \"Rosalind Franklin\",\n",
    "        \"coffee_preference\": \"dark\",\n",
    "        \"course\": \"data science\",\n",
    "        \"grades\": [76, 70, 96, 81],\n",
    "        \"pets\": [],\n",
    "    },\n",
    "    {\n",
    "        \"id\": \"100007\",\n",
    "        \"student\": \"Elizabeth Blackwell\",\n",
    "        \"coffee_preference\": \"dark\",\n",
    "        \"course\": \"web development\",\n",
    "        \"grades\": [69, 94, 89, 86],\n",
    "        \"pets\": [{\"species\": \"cat\", \"age\": 10}],\n",
    "    },\n",
    "    {\n",
    "        \"id\": \"100008\",\n",
    "        \"student\": \"Rene Descartes\",\n",
    "        \"coffee_preference\": \"medium\",\n",
    "        \"course\": \"data science\",\n",
    "        \"grades\": [87, 79, 90, 99],\n",
    "        \"pets\": [{\"species\": \"cat\", \"age\": 10}, {\"species\": \"cat\", \"age\": 8}],\n",
    "    },\n",
    "    {\n",
    "        \"id\": \"100009\",\n",
    "        \"student\": \"Ahmed Zewail\",\n",
    "        \"coffee_preference\": \"medium\",\n",
    "        \"course\": \"data science\",\n",
    "        \"grades\": [74, 99, 93, 89],\n",
    "        \"pets\": [{\"species\": \"cat\", \"age\": 0}, {\"species\": \"cat\", \"age\": 0}],\n",
    "    },\n",
    "    {\n",
    "        \"id\": \"100010\",\n",
    "        \"student\": \"Chien-Shiung Wu\",\n",
    "        \"coffee_preference\": \"medium\",\n",
    "        \"course\": \"web development\",\n",
    "        \"grades\": [82, 92, 91, 65],\n",
    "        \"pets\": [{\"species\": \"cat\", \"age\": 8}],\n",
    "    },\n",
    "    {\n",
    "        \"id\": \"100011\",\n",
    "        \"student\": \"William Sanford Nye\",\n",
    "        \"coffee_preference\": \"dark\",\n",
    "        \"course\": \"data science\",\n",
    "        \"grades\": [70, 92, 65, 99],\n",
    "        \"pets\": [{\"species\": \"cat\", \"age\": 8}, {\"species\": \"cat\", \"age\": 5}],\n",
    "    },\n",
    "    {\n",
    "        \"id\": \"100012\",\n",
    "        \"student\": \"Carl Sagan\",\n",
    "        \"coffee_preference\": \"medium\",\n",
    "        \"course\": \"data science\",\n",
    "        \"grades\": [100, 86, 91, 87],\n",
    "        \"pets\": [{\"species\": \"cat\", \"age\": 10}],\n",
    "    },\n",
    "    {\n",
    "        \"id\": \"100013\",\n",
    "        \"student\": \"Jane Goodall\",\n",
    "        \"coffee_preference\": \"light\",\n",
    "        \"course\": \"web development\",\n",
    "        \"grades\": [80, 70, 68, 98],\n",
    "        \"pets\": [{\"species\": \"horse\", \"age\": 4}],\n",
    "    },\n",
    "    {\n",
    "        \"id\": \"100014\",\n",
    "        \"student\": \"Richard Feynman\",\n",
    "        \"coffee_preference\": \"medium\",\n",
    "        \"course\": \"web development\",\n",
    "        \"grades\": [73, 99, 86, 98],\n",
    "        \"pets\": [{\"species\": \"dog\", \"age\": 6}],\n",
    "    },\n",
    "]"
   ]
  },
  {
   "cell_type": "code",
   "execution_count": 25,
   "id": "bfb0c226",
   "metadata": {},
   "outputs": [
    {
     "data": {
      "text/plain": [
       "82.92857142857143"
      ]
     },
     "execution_count": 25,
     "metadata": {},
     "output_type": "execute_result"
    }
   ],
   "source": [
    "# Exercise: Add up all the grades and divide by the total number of students\n",
    "all_grades = []\n",
    "\n",
    "for student in students:\n",
    "    grades = student[\"grades\"]\n",
    "    for grade in grades:\n",
    "        all_grades.append(grade)\n",
    "        \n",
    "sum(all_grades) / len(students * 4) # times four since each student had 4 grades"
   ]
  },
  {
   "cell_type": "code",
   "execution_count": 26,
   "id": "ba6606db",
   "metadata": {},
   "outputs": [
    {
     "data": {
      "text/plain": [
       "2"
      ]
     },
     "execution_count": 26,
     "metadata": {},
     "output_type": "execute_result"
    }
   ],
   "source": [
    "fruits = [\"apple\", \"orange\", \"orange\"]\n",
    "fruits.count(\"orange\")"
   ]
  },
  {
   "cell_type": "code",
   "execution_count": null,
   "id": "1df6d300",
   "metadata": {},
   "outputs": [],
   "source": []
  }
 ],
 "metadata": {
  "kernelspec": {
   "display_name": "Python 3 (ipykernel)",
   "language": "python",
   "name": "python3"
  },
  "language_info": {
   "codemirror_mode": {
    "name": "ipython",
    "version": 3
   },
   "file_extension": ".py",
   "mimetype": "text/x-python",
   "name": "python",
   "nbconvert_exporter": "python",
   "pygments_lexer": "ipython3",
   "version": "3.8.12"
  }
 },
 "nbformat": 4,
 "nbformat_minor": 5
}
