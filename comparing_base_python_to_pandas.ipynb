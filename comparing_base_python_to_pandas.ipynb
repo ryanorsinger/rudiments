{
 "cells": [
  {
   "cell_type": "markdown",
   "id": "db6c5a01",
   "metadata": {},
   "source": [
    "# Growing from Base Python to Pandas"
   ]
  },
  {
   "cell_type": "markdown",
   "id": "208ae698",
   "metadata": {},
   "source": [
    "## Comparison Operators\n",
    "- Return a True or False value\n",
    "- `==, <, <=, >=, >` \n",
    "- Our operators matter because they can answer question for us instead of us manually doing things"
   ]
  },
  {
   "cell_type": "code",
   "execution_count": 1,
   "id": "e3384014",
   "metadata": {},
   "outputs": [
    {
     "data": {
      "text/plain": [
       "False"
      ]
     },
     "execution_count": 1,
     "metadata": {},
     "output_type": "execute_result"
    }
   ],
   "source": [
    "# Single equal sign assigns a value to a variable\n",
    "greeting = \"Hello\"\n",
    "\n",
    "# Double equal sign returns true/false when comparing values on the left to values on the right\n",
    "greeting == \"hello\""
   ]
  },
  {
   "cell_type": "code",
   "execution_count": 2,
   "id": "bc81a1a5",
   "metadata": {},
   "outputs": [
    {
     "data": {
      "text/plain": [
       "False"
      ]
     },
     "execution_count": 2,
     "metadata": {},
     "output_type": "execute_result"
    }
   ],
   "source": [
    "# We need to operate on variables without manually checking them\n",
    "len(greeting) > 5"
   ]
  },
  {
   "cell_type": "code",
   "execution_count": 3,
   "id": "60b84e8e",
   "metadata": {},
   "outputs": [
    {
     "data": {
      "text/plain": [
       "True"
      ]
     },
     "execution_count": 3,
     "metadata": {},
     "output_type": "execute_result"
    }
   ],
   "source": [
    "len(greeting) >= 5"
   ]
  },
  {
   "cell_type": "markdown",
   "id": "46110e41",
   "metadata": {},
   "source": [
    "## Other operators and functions can give us Trues and Falses\n",
    "- Why are booleans valuable? Because we can use the yes/no answer to make decisions\n",
    "- Specifically, we make sure the CODE makes decisions, not people."
   ]
  },
  {
   "cell_type": "code",
   "execution_count": 4,
   "id": "b95f5b7f",
   "metadata": {},
   "outputs": [
    {
     "data": {
      "text/plain": [
       "False"
      ]
     },
     "execution_count": 4,
     "metadata": {},
     "output_type": "execute_result"
    }
   ],
   "source": [
    "# The in operator gives us a true or a false\n",
    "\"a\" in \"good morning\""
   ]
  },
  {
   "cell_type": "code",
   "execution_count": 5,
   "id": "6a86579c",
   "metadata": {},
   "outputs": [
    {
     "data": {
      "text/plain": [
       "False"
      ]
     },
     "execution_count": 5,
     "metadata": {},
     "output_type": "execute_result"
    }
   ],
   "source": [
    "# We have lots of functions that give us true/false answers\n",
    "greeting.isnumeric()"
   ]
  },
  {
   "cell_type": "code",
   "execution_count": 6,
   "id": "77b0e4e6",
   "metadata": {},
   "outputs": [
    {
     "data": {
      "text/plain": [
       "True"
      ]
     },
     "execution_count": 6,
     "metadata": {},
     "output_type": "execute_result"
    }
   ],
   "source": [
    "# But here, the string containing the numeral 4 is numeric\n",
    "\"4\".isnumeric()"
   ]
  },
  {
   "cell_type": "code",
   "execution_count": 7,
   "id": "8860bd07",
   "metadata": {},
   "outputs": [
    {
     "data": {
      "text/plain": [
       "False"
      ]
     },
     "execution_count": 7,
     "metadata": {},
     "output_type": "execute_result"
    }
   ],
   "source": [
    "greeting.endswith(\"Z\")"
   ]
  },
  {
   "cell_type": "code",
   "execution_count": 8,
   "id": "6395c83c",
   "metadata": {},
   "outputs": [
    {
     "data": {
      "text/plain": [
       "True"
      ]
     },
     "execution_count": 8,
     "metadata": {},
     "output_type": "execute_result"
    }
   ],
   "source": [
    "greeting.startswith(\"H\")"
   ]
  },
  {
   "cell_type": "markdown",
   "id": "90e974ab",
   "metadata": {},
   "source": [
    "## Punchline: operators and functions give us booleans.\n",
    "- So what?\n",
    "- We can use booleans to make decisions with conditionals like an if or if/else\n",
    "- We can also use booleans to filter our data.\n",
    "- And filtering data we want vs. data we don't want is critical\n",
    "- We may want to tighten our filters with ANDs\n",
    "    - Allergic to peanuts and shellfish and dairy and eggs mean we have more limited options\n",
    "    - And is about filtering things down more and more\n",
    "- We may want to expand our filters with ORs\n",
    "    - I'm good with pizza or pasta or salads or curry\n",
    "    - ORs expand our options, adding more options"
   ]
  },
  {
   "cell_type": "code",
   "execution_count": 9,
   "id": "2ce36c9d",
   "metadata": {},
   "outputs": [
    {
     "data": {
      "text/plain": [
       "True"
      ]
     },
     "execution_count": 9,
     "metadata": {},
     "output_type": "execute_result"
    }
   ],
   "source": [
    "# Does this string start with \"H\" and end with \"o\"\n",
    "greeting.startswith(\"H\") and greeting.endswith(\"o\")"
   ]
  },
  {
   "cell_type": "code",
   "execution_count": 10,
   "id": "cdfc7789",
   "metadata": {},
   "outputs": [
    {
     "data": {
      "text/plain": [
       "True"
      ]
     },
     "execution_count": 10,
     "metadata": {},
     "output_type": "execute_result"
    }
   ],
   "source": [
    "# We only need a single True in a collection of ORs to \"Truthify\" the whole expression\n",
    "\"howdy\".startswith(\"h\") or \"howdy\".endswith(\"z\")"
   ]
  },
  {
   "cell_type": "code",
   "execution_count": 11,
   "id": "9872280c",
   "metadata": {},
   "outputs": [
    {
     "data": {
      "text/plain": [
       "False"
      ]
     },
     "execution_count": 11,
     "metadata": {},
     "output_type": "execute_result"
    }
   ],
   "source": [
    "# Does this string start with \"H\" and end with \"o\" and the string is longer than five characters\n",
    "greeting.startswith(\"H\") and greeting.endswith(\"o\") and len(greeting) > 5"
   ]
  },
  {
   "cell_type": "markdown",
   "id": "d83f317d",
   "metadata": {},
   "source": [
    "## So what does this have to with Pandas?\n",
    "- What does this have to do with operating on entire series or arrays in pandas or numpy?\n",
    "- The \"big deal\" is that we can use operators and functions on an entire collection of values instead of one single value\n",
    "- If you can operate on an entire collection with the same/similar effort, you have a force multiplier"
   ]
  },
  {
   "cell_type": "code",
   "execution_count": 12,
   "id": "b9582917",
   "metadata": {},
   "outputs": [],
   "source": [
    "import pandas as pd"
   ]
  },
  {
   "cell_type": "code",
   "execution_count": 13,
   "id": "2273252e",
   "metadata": {},
   "outputs": [
    {
     "data": {
      "text/plain": [
       "0     Batmobile\n",
       "1         honda\n",
       "2          yugo\n",
       "3          ford\n",
       "4        toyota\n",
       "5       hyundai\n",
       "6    volkswagen\n",
       "dtype: object"
      ]
     },
     "execution_count": 13,
     "metadata": {},
     "output_type": "execute_result"
    }
   ],
   "source": [
    "# All a Series is a fancy, more powerful list.\n",
    "cars = pd.Series([\"Batmobile\", \"honda\", \"yugo\", \"ford\", \"toyota\", \"hyundai\", \"volkswagen\"])\n",
    "cars"
   ]
  },
  {
   "cell_type": "code",
   "execution_count": 14,
   "id": "c0b09b71",
   "metadata": {},
   "outputs": [
    {
     "data": {
      "text/plain": [
       "0    False\n",
       "1    False\n",
       "2    False\n",
       "3     True\n",
       "4    False\n",
       "5    False\n",
       "6    False\n",
       "dtype: bool"
      ]
     },
     "execution_count": 14,
     "metadata": {},
     "output_type": "execute_result"
    }
   ],
   "source": [
    "# If we only wanted to check/filter a series to only return the \"ford\"\n",
    "# The True is the last item on the output, b/c \"ford\" was the last on the input\n",
    "cars == \"ford\""
   ]
  },
  {
   "cell_type": "markdown",
   "id": "df9086ce",
   "metadata": {},
   "source": [
    "## An array/Series of booleans is the key to the castle\n",
    "- We can use our boolean arrays to filter our data\n",
    "- If we use the boolean array in square brackets next to the original array,\n",
    "- We filter the resuls"
   ]
  },
  {
   "cell_type": "code",
   "execution_count": 15,
   "id": "98a04b6b",
   "metadata": {},
   "outputs": [
    {
     "data": {
      "text/plain": [
       "0    False\n",
       "1    False\n",
       "2    False\n",
       "3     True\n",
       "4    False\n",
       "5    False\n",
       "6    False\n",
       "dtype: bool"
      ]
     },
     "execution_count": 15,
     "metadata": {},
     "output_type": "execute_result"
    }
   ],
   "source": [
    "# It's a good idea to save your boolean arrays to their own variable\n",
    "is_ford = cars == \"ford\"\n",
    "is_ford"
   ]
  },
  {
   "cell_type": "code",
   "execution_count": 16,
   "id": "9a253100",
   "metadata": {},
   "outputs": [
    {
     "data": {
      "text/plain": [
       "3    ford\n",
       "dtype: object"
      ]
     },
     "execution_count": 16,
     "metadata": {},
     "output_type": "execute_result"
    }
   ],
   "source": [
    "# Hey cars series, only give me the values from is_ford that were true\n",
    "# Bracket syntax looks/feels like list index syntax\n",
    "cars[is_ford]"
   ]
  },
  {
   "cell_type": "code",
   "execution_count": 17,
   "id": "d2388b67",
   "metadata": {},
   "outputs": [
    {
     "data": {
      "text/plain": [
       "3    ford\n",
       "dtype: object"
      ]
     },
     "execution_count": 17,
     "metadata": {},
     "output_type": "execute_result"
    }
   ],
   "source": [
    "# We don't HAVE to make a variable for the boolean array, \n",
    "# We can put that boolean expression in the square brackets directly\n",
    "cars[cars == \"ford\"]"
   ]
  },
  {
   "cell_type": "markdown",
   "id": "120a25d8",
   "metadata": {},
   "source": [
    "## Nice Things:\n",
    "- Pandas uses the comparison operators directly, no other functionality or requirements"
   ]
  },
  {
   "cell_type": "code",
   "execution_count": 18,
   "id": "eb875892",
   "metadata": {},
   "outputs": [
    {
     "data": {
      "text/plain": [
       "0     Batmobile\n",
       "1         honda\n",
       "2          yugo\n",
       "3          ford\n",
       "4        toyota\n",
       "5       hyundai\n",
       "6    volkswagen\n",
       "dtype: object"
      ]
     },
     "execution_count": 18,
     "metadata": {},
     "output_type": "execute_result"
    }
   ],
   "source": [
    "# How can we find the cars that end with the letter \"a\"\n",
    "cars"
   ]
  },
  {
   "cell_type": "code",
   "execution_count": 19,
   "id": "812bab30",
   "metadata": {},
   "outputs": [
    {
     "data": {
      "text/plain": [
       "True"
      ]
     },
     "execution_count": 19,
     "metadata": {},
     "output_type": "execute_result"
    }
   ],
   "source": [
    "# .startswith and ALL the other string methods run on one string\n",
    "\"honda\".startswith(\"h\")"
   ]
  },
  {
   "cell_type": "code",
   "execution_count": 20,
   "id": "9e19f2ae",
   "metadata": {},
   "outputs": [],
   "source": [
    "# But, they don't work directly on a series....\n",
    "# We have a little problem now.\n",
    "# This will throw an error\n",
    "# cars.startswith(\"y\")"
   ]
  },
  {
   "cell_type": "code",
   "execution_count": 21,
   "id": "618b83c8",
   "metadata": {},
   "outputs": [
    {
     "data": {
      "text/plain": [
       "0    False\n",
       "1     True\n",
       "2    False\n",
       "3    False\n",
       "4    False\n",
       "5     True\n",
       "6    False\n",
       "dtype: bool"
      ]
     },
     "execution_count": 21,
     "metadata": {},
     "output_type": "execute_result"
    }
   ],
   "source": [
    "# Here's what the pandas library programmers did:\n",
    "# Introduced the .str. component\n",
    "# Notice, that the original function name is the same (and many pandas are same/similar)\n",
    "# Our price of admission: series.str.string_method()\n",
    "cars.str.startswith(\"h\")"
   ]
  },
  {
   "cell_type": "code",
   "execution_count": 22,
   "id": "14af75a4",
   "metadata": {},
   "outputs": [
    {
     "data": {
      "text/plain": [
       "0     True\n",
       "1    False\n",
       "2    False\n",
       "3    False\n",
       "4    False\n",
       "5    False\n",
       "6    False\n",
       "dtype: bool"
      ]
     },
     "execution_count": 22,
     "metadata": {},
     "output_type": "execute_result"
    }
   ],
   "source": [
    "cars.str.startswith(\"Bat\")"
   ]
  },
  {
   "cell_type": "code",
   "execution_count": 23,
   "id": "0ffdbaab",
   "metadata": {},
   "outputs": [
    {
     "data": {
      "text/plain": [
       "3"
      ]
     },
     "execution_count": 23,
     "metadata": {},
     "output_type": "execute_result"
    }
   ],
   "source": [
    "# .count counts a single character of a string\n",
    "\"banana\".count(\"a\")"
   ]
  },
  {
   "cell_type": "code",
   "execution_count": 24,
   "id": "32fd77d6",
   "metadata": {},
   "outputs": [
    {
     "data": {
      "text/plain": [
       "0    1\n",
       "1    1\n",
       "2    0\n",
       "3    0\n",
       "4    1\n",
       "5    1\n",
       "6    1\n",
       "dtype: int64"
      ]
     },
     "execution_count": 24,
     "metadata": {},
     "output_type": "execute_result"
    }
   ],
   "source": [
    "# Count the letter \"a\" in all the cars\n",
    "# series.str.count(\"a\") counts all the \"a\" characters\n",
    "cars.str.count(\"a\")"
   ]
  },
  {
   "cell_type": "code",
   "execution_count": 25,
   "id": "bd1b70c8",
   "metadata": {},
   "outputs": [
    {
     "data": {
      "text/plain": [
       "0    2\n",
       "1    1\n",
       "2    0\n",
       "3    0\n",
       "4    1\n",
       "5    1\n",
       "6    2\n",
       "dtype: int64"
      ]
     },
     "execution_count": 25,
     "metadata": {},
     "output_type": "execute_result"
    }
   ],
   "source": [
    "# We can expand this a bit\n",
    "# Count the \"a\" and \"e\" characters\n",
    "cars.str.count(\"a\") + cars.str.count(\"e\")"
   ]
  },
  {
   "cell_type": "code",
   "execution_count": 26,
   "id": "e0bc4a43",
   "metadata": {},
   "outputs": [
    {
     "data": {
      "text/plain": [
       "0    4\n",
       "1    2\n",
       "2    2\n",
       "3    1\n",
       "4    3\n",
       "5    3\n",
       "6    3\n",
       "dtype: int64"
      ]
     },
     "execution_count": 26,
     "metadata": {},
     "output_type": "execute_result"
    }
   ],
   "source": [
    "# Count the vowels for each car\n",
    "cars.str.count(\"a\") + cars.str.count(\"e\") + cars.str.count(\"i\") + cars.str.count(\"o\") + cars.str.count(\"u\")"
   ]
  },
  {
   "cell_type": "code",
   "execution_count": 27,
   "id": "be262d2a",
   "metadata": {},
   "outputs": [
    {
     "data": {
      "text/plain": [
       "0     Batmobile\n",
       "1         honda\n",
       "2          yugo\n",
       "3          ford\n",
       "4        toyota\n",
       "5       hyundai\n",
       "6    volkswagen\n",
       "dtype: object"
      ]
     },
     "execution_count": 27,
     "metadata": {},
     "output_type": "execute_result"
    }
   ],
   "source": [
    "cars"
   ]
  },
  {
   "cell_type": "code",
   "execution_count": 28,
   "id": "ad87bb63",
   "metadata": {
    "scrolled": true
   },
   "outputs": [
    {
     "data": {
      "text/plain": [
       "0    1\n",
       "1    1\n",
       "2    0\n",
       "3    0\n",
       "4    1\n",
       "5    1\n",
       "6    1\n",
       "dtype: int64"
      ]
     },
     "execution_count": 28,
     "metadata": {},
     "output_type": "execute_result"
    }
   ],
   "source": [
    "# We can use these numeric outputs together with boolean operators like ==, >, >=, etc..\n",
    "# Only show the cars that have one or more \"a\" character\n",
    "# Step 1: count the letter \"a\"\n",
    "cars.str.count(\"a\")"
   ]
  },
  {
   "cell_type": "code",
   "execution_count": 29,
   "id": "e1a57920",
   "metadata": {},
   "outputs": [],
   "source": [
    "# Close, but not quite there...\n",
    "# cars[cars.str.count(\"a\")]"
   ]
  },
  {
   "cell_type": "code",
   "execution_count": 30,
   "id": "1271ce87",
   "metadata": {},
   "outputs": [
    {
     "data": {
      "text/plain": [
       "0     True\n",
       "1     True\n",
       "2    False\n",
       "3    False\n",
       "4     True\n",
       "5     True\n",
       "6     True\n",
       "dtype: bool"
      ]
     },
     "execution_count": 30,
     "metadata": {},
     "output_type": "execute_result"
    }
   ],
   "source": [
    "# Since you needed python to make a yes/no choice, we NEEDED an operator/function\n",
    "# that would give us back Trues or Falses\n",
    "cars.str.count(\"a\") >= 1"
   ]
  },
  {
   "cell_type": "code",
   "execution_count": 31,
   "id": "77f67272",
   "metadata": {},
   "outputs": [
    {
     "data": {
      "text/plain": [
       "0     Batmobile\n",
       "1         honda\n",
       "2          yugo\n",
       "3          ford\n",
       "4        toyota\n",
       "5       hyundai\n",
       "6    volkswagen\n",
       "dtype: object"
      ]
     },
     "execution_count": 31,
     "metadata": {},
     "output_type": "execute_result"
    }
   ],
   "source": [
    "cars"
   ]
  },
  {
   "cell_type": "code",
   "execution_count": 32,
   "id": "2be3a788",
   "metadata": {},
   "outputs": [
    {
     "data": {
      "text/plain": [
       "0     True\n",
       "1     True\n",
       "2    False\n",
       "3    False\n",
       "4     True\n",
       "5     True\n",
       "6     True\n",
       "dtype: bool"
      ]
     },
     "execution_count": 32,
     "metadata": {},
     "output_type": "execute_result"
    }
   ],
   "source": [
    "cars.str.count(\"a\") >= 1"
   ]
  },
  {
   "cell_type": "code",
   "execution_count": 33,
   "id": "5eed50c7",
   "metadata": {},
   "outputs": [
    {
     "data": {
      "text/plain": [
       "3    ford\n",
       "dtype: object"
      ]
     },
     "execution_count": 33,
     "metadata": {},
     "output_type": "execute_result"
    }
   ],
   "source": [
    "# This boolean comparison only returned the \"ford\"\n",
    "# select * from cars where car is \"ford\"\n",
    "cars[cars == \"ford\"]"
   ]
  },
  {
   "cell_type": "code",
   "execution_count": 34,
   "id": "539a0516",
   "metadata": {},
   "outputs": [
    {
     "data": {
      "text/plain": [
       "0     Batmobile\n",
       "1         honda\n",
       "4        toyota\n",
       "5       hyundai\n",
       "6    volkswagen\n",
       "dtype: object"
      ]
     },
     "execution_count": 34,
     "metadata": {},
     "output_type": "execute_result"
    }
   ],
   "source": [
    "cars[cars.str.count(\"a\") >= 1]"
   ]
  },
  {
   "cell_type": "code",
   "execution_count": 35,
   "id": "c6f9360a",
   "metadata": {},
   "outputs": [
    {
     "data": {
      "text/plain": [
       "0     9\n",
       "1     5\n",
       "2     4\n",
       "3     4\n",
       "4     6\n",
       "5     7\n",
       "6    10\n",
       "dtype: int64"
      ]
     },
     "execution_count": 35,
     "metadata": {},
     "output_type": "execute_result"
    }
   ],
   "source": [
    "# .str.len() returns the length of each string\n",
    "cars.str.len()"
   ]
  },
  {
   "cell_type": "code",
   "execution_count": 36,
   "id": "a43fd835",
   "metadata": {},
   "outputs": [
    {
     "data": {
      "text/plain": [
       "0                 kiwi\n",
       "1                mango\n",
       "2           strawberry\n",
       "3            pineapple\n",
       "4           gala apple\n",
       "5     honeycrisp apple\n",
       "6               tomato\n",
       "7           watermelon\n",
       "8             honeydew\n",
       "9                 kiwi\n",
       "10                kiwi\n",
       "11                kiwi\n",
       "12               mango\n",
       "13           blueberry\n",
       "14          blackberry\n",
       "15          gooseberry\n",
       "16              papaya\n",
       "dtype: object"
      ]
     },
     "execution_count": 36,
     "metadata": {},
     "output_type": "execute_result"
    }
   ],
   "source": [
    "fruits = pd.Series([\"kiwi\", \"mango\", \"strawberry\", \"pineapple\", \"gala apple\", \"honeycrisp apple\", \"tomato\", \"watermelon\", \"honeydew\", \"kiwi\", \"kiwi\", \"kiwi\", \"mango\", \"blueberry\", \"blackberry\", \"gooseberry\", \"papaya\"])\n",
    "fruits"
   ]
  },
  {
   "cell_type": "code",
   "execution_count": 37,
   "id": "17258b5a",
   "metadata": {},
   "outputs": [
    {
     "data": {
      "text/plain": [
       "1                mango\n",
       "2           strawberry\n",
       "3            pineapple\n",
       "4           gala apple\n",
       "5     honeycrisp apple\n",
       "6               tomato\n",
       "7           watermelon\n",
       "8             honeydew\n",
       "12               mango\n",
       "13           blueberry\n",
       "14          blackberry\n",
       "15          gooseberry\n",
       "16              papaya\n",
       "dtype: object"
      ]
     },
     "execution_count": 37,
     "metadata": {},
     "output_type": "execute_result"
    }
   ],
   "source": [
    "# Write the code to get the string values with 5 or more letters in the name.\n",
    "# Think of this like SQL\n",
    "# SELECT * from fruits where len(fruit) >= 5\n",
    "fruits[fruits.str.len() >= 5]"
   ]
  },
  {
   "cell_type": "code",
   "execution_count": 38,
   "id": "f9068094",
   "metadata": {},
   "outputs": [
    {
     "data": {
      "text/plain": [
       "6"
      ]
     },
     "execution_count": 38,
     "metadata": {},
     "output_type": "execute_result"
    }
   ],
   "source": [
    "len(\"banana\")"
   ]
  },
  {
   "cell_type": "code",
   "execution_count": 39,
   "id": "99b8a0fb",
   "metadata": {},
   "outputs": [
    {
     "data": {
      "text/plain": [
       "3"
      ]
     },
     "execution_count": 39,
     "metadata": {},
     "output_type": "execute_result"
    }
   ],
   "source": [
    "\"banana\".count(\"a\")"
   ]
  },
  {
   "cell_type": "code",
   "execution_count": 40,
   "id": "5f2a7f5f",
   "metadata": {},
   "outputs": [
    {
     "data": {
      "text/plain": [
       "6         tomato\n",
       "15    gooseberry\n",
       "dtype: object"
      ]
     },
     "execution_count": 40,
     "metadata": {},
     "output_type": "execute_result"
    }
   ],
   "source": [
    "# find the fruit(s) containing the letter \"o\" two or more times.\n",
    "# think of this like: select * from fruits where the count of \"o\" characters is >= 2\n",
    "fruits[fruits.str.count(\"o\") >= 2]"
   ]
  },
  {
   "cell_type": "markdown",
   "id": "d123d25b",
   "metadata": {},
   "source": [
    "## Takeaways\n",
    "- Break each problem down into its smallest components \n",
    "- Build up tiny solutions to each tiny problem together\n",
    "- Stitch together the tiny solutions with Python syntax\n",
    "- If you can produce a series of booleans, you can filter your original series\n"
   ]
  }
 ],
 "metadata": {
  "kernelspec": {
   "display_name": "Python 3 (ipykernel)",
   "language": "python",
   "name": "python3"
  },
  "language_info": {
   "codemirror_mode": {
    "name": "ipython",
    "version": 3
   },
   "file_extension": ".py",
   "mimetype": "text/x-python",
   "name": "python",
   "nbconvert_exporter": "python",
   "pygments_lexer": "ipython3",
   "version": "3.8.12"
  }
 },
 "nbformat": 4,
 "nbformat_minor": 5
}
