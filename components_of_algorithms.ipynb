{
 "cells": [
  {
   "cell_type": "markdown",
   "id": "b896e968",
   "metadata": {},
   "source": [
    "# Ingredients of Algorithms\n",
    "\n",
    "The \"Big 3\" components of programming: 3 ingredients of algorithms:\n",
    "\n",
    "An algorithm is a formalized sequence of steps to solve a problem. \n",
    "- Cookie recipie is an algorithm (following each step to the letter)\n",
    "- Calculating the average of a list of numbers\n",
    "- TurboTax runs algorithms/sequences of steps to determine your tax credit/liability\n",
    "\n",
    "## 3 Parts to Algorithms \n",
    "- Sequence\n",
    "- Selection\n",
    "- Iteration\n",
    "\n",
    "\n",
    "### Sequence is all about the sequence of the steps in our algorithm\n",
    "- The order of our lines of code.\n",
    "- Order of operations\n",
    "- PEMDAS (parentheses, exponents, multiplication, division, additionk, subtraction)\n",
    "- Order of logical operations (use parentheses or lines of code to make your order of logical operations concrete)\n",
    "- Code runs from top to bottom (unless told otherwise)\n",
    "- `functions(run(from(inside(out))))` like `increment(increment(1)) == 2`\n",
    "- `method.run().from().left().to().right()`  (methods are functions that live on objects)\n",
    "- Line 1 runs code, then python runs line 2, etc..."
   ]
  },
  {
   "cell_type": "code",
   "execution_count": 1,
   "id": "e10ae329",
   "metadata": {},
   "outputs": [
    {
     "data": {
      "text/plain": [
       "'JOHN, PAUL, GEORGE, Neil Pert'"
      ]
     },
     "execution_count": 1,
     "metadata": {},
     "output_type": "execute_result"
    }
   ],
   "source": [
    "# Example of methods running from left to right:\n",
    "beatles = \"John, Paul, George, Ringo\"\n",
    "beatles.lower().swapcase().replace(\"RINGO\", \"Neil Pert\")"
   ]
  },
  {
   "cell_type": "code",
   "execution_count": 2,
   "id": "44f82492",
   "metadata": {},
   "outputs": [
    {
     "data": {
      "text/plain": [
       "'JOHN, PAUL, GEORGE, Neil Pert'"
      ]
     },
     "execution_count": 2,
     "metadata": {},
     "output_type": "execute_result"
    }
   ],
   "source": [
    "# We don't have to chain everything if you don't want to\n",
    "# method chaining is kinda like ketchup. Use it if you like it.\n",
    "# we can do things one step at a time (and that's probably a great idea for now)\n",
    "beatles = \"John, Paul, George, Ringo\"\n",
    "\n",
    "# Lowercase all the string\n",
    "beatles = beatles.lower()\n",
    "\n",
    "# swapcase the string (all lower becomes capital)\n",
    "beatles = beatles.swapcase()\n",
    "\n",
    "# Replace \"RINGO\" with \"Neil Pert\"\n",
    "beatles = beatles.replace(\"RINGO\", \"Neil Pert\")\n",
    "beatles"
   ]
  },
  {
   "cell_type": "code",
   "execution_count": 3,
   "id": "791afd6c",
   "metadata": {},
   "outputs": [
    {
     "data": {
      "text/plain": [
       "'JOHN, PAUL, GEORGE, Neil Pert'"
      ]
     },
     "execution_count": 3,
     "metadata": {},
     "output_type": "execute_result"
    }
   ],
   "source": [
    "# Can we method chain \"from left to right\" but \"top to bottom\"\n",
    "# we could use a backslash between each line as a continuation character\n",
    "beatles = \"John, Paul, George, Ringo\"\n",
    "\n",
    "beatles.lower() \\\n",
    ".swapcase() \\\n",
    ".replace(\"RINGO\", \"Neil Pert\")"
   ]
  },
  {
   "cell_type": "code",
   "execution_count": 4,
   "id": "3de5e89a",
   "metadata": {},
   "outputs": [
    {
     "data": {
      "text/plain": [
       "'JOHN, PAUL, GEORGE, Neil Pert'"
      ]
     },
     "execution_count": 4,
     "metadata": {},
     "output_type": "execute_result"
    }
   ],
   "source": [
    "# Can we method chain \"from left to right\" but \"top to bottom\"\n",
    "# wrap everything in parentheses to avoid the continuation character\n",
    "beatles = \"John, Paul, George, Ringo\"\n",
    "\n",
    "(beatles.lower()\n",
    ".swapcase() \n",
    ".replace(\"RINGO\", \"Neil Pert\"))"
   ]
  },
  {
   "cell_type": "code",
   "execution_count": 5,
   "id": "a8308249",
   "metadata": {},
   "outputs": [
    {
     "name": "stdout",
     "output_type": "stream",
     "text": [
      "\n",
      "\n",
      "Hello\n"
     ]
    }
   ],
   "source": [
    "# backslash \n",
    "print(\"\\n\")\n",
    "print(\"Hello\")"
   ]
  },
  {
   "cell_type": "code",
   "execution_count": 7,
   "id": "117f3c0c",
   "metadata": {},
   "outputs": [
    {
     "ename": "SyntaxError",
     "evalue": "invalid syntax (2129539508.py, line 3)",
     "output_type": "error",
     "traceback": [
      "\u001b[0;36m  File \u001b[0;32m\"/var/folders/d_/7tbp5nsn0675p_4kcchp75k80000gp/T/ipykernel_33713/2129539508.py\"\u001b[0;36m, line \u001b[0;32m3\u001b[0m\n\u001b[0;31m    +\u001b[0m\n\u001b[0m     ^\u001b[0m\n\u001b[0;31mSyntaxError\u001b[0m\u001b[0;31m:\u001b[0m invalid syntax\n"
     ]
    }
   ],
   "source": [
    "# This is a syntax error \n",
    "2\n",
    "+\n",
    "2"
   ]
  },
  {
   "cell_type": "code",
   "execution_count": 8,
   "id": "3bb53cbe",
   "metadata": {},
   "outputs": [
    {
     "data": {
      "text/plain": [
       "4"
      ]
     },
     "execution_count": 8,
     "metadata": {},
     "output_type": "execute_result"
    }
   ],
   "source": [
    "# we could use continuation character\n",
    "2     \\\n",
    "       +   \\\n",
    "   2"
   ]
  },
  {
   "cell_type": "code",
   "execution_count": 9,
   "id": "80431929",
   "metadata": {},
   "outputs": [
    {
     "data": {
      "text/plain": [
       "4"
      ]
     },
     "execution_count": 9,
     "metadata": {},
     "output_type": "execute_result"
    }
   ],
   "source": [
    "(2\n",
    "+\n",
    "2)"
   ]
  },
  {
   "cell_type": "code",
   "execution_count": 10,
   "id": "04762472",
   "metadata": {},
   "outputs": [
    {
     "data": {
      "text/plain": [
       "29"
      ]
     },
     "execution_count": 10,
     "metadata": {},
     "output_type": "execute_result"
    }
   ],
   "source": [
    "# What if we combine methods and functions?\n",
    "x = beatles.lower().swapcase().replace(\"RINGO\", \"Neil Pert\")\n",
    "len(x)"
   ]
  },
  {
   "cell_type": "code",
   "execution_count": 11,
   "id": "501deffa",
   "metadata": {},
   "outputs": [
    {
     "data": {
      "text/plain": [
       "25"
      ]
     },
     "execution_count": 11,
     "metadata": {},
     "output_type": "execute_result"
    }
   ],
   "source": [
    "len(beatles.swapcase().lower().replace(\"RINGO\", \"Neil Pert\"))"
   ]
  },
  {
   "cell_type": "markdown",
   "id": "dda42bfe",
   "metadata": {},
   "source": [
    "## Now we know\n",
    "- String methods return a copy\n",
    "- To save the result of transforming a string, we need to reassign the variable"
   ]
  },
  {
   "cell_type": "code",
   "execution_count": 12,
   "id": "07bdfa1e",
   "metadata": {},
   "outputs": [
    {
     "data": {
      "text/plain": [
       "'python@codeup_rocks!'"
      ]
     },
     "execution_count": 12,
     "metadata": {},
     "output_type": "execute_result"
    }
   ],
   "source": [
    "string = \"   PYTHON@Codeup rocks!       \" # original string\n",
    "\n",
    "string.strip().replace(\" \", \"_\").lower()"
   ]
  },
  {
   "cell_type": "code",
   "execution_count": 13,
   "id": "4a869b9e",
   "metadata": {},
   "outputs": [
    {
     "data": {
      "text/plain": [
       "'python@codeup_rocks!'"
      ]
     },
     "execution_count": 13,
     "metadata": {},
     "output_type": "execute_result"
    }
   ],
   "source": [
    "string = \"   PYTHON@Codeup rocks!       \"\n",
    "string.lower().strip().replace(\" \", \"_\")"
   ]
  },
  {
   "cell_type": "code",
   "execution_count": 14,
   "id": "67a155ef",
   "metadata": {},
   "outputs": [
    {
     "data": {
      "text/plain": [
       "'pythoncodeup_rocks'"
      ]
     },
     "execution_count": 14,
     "metadata": {},
     "output_type": "execute_result"
    }
   ],
   "source": [
    "# Normalize Name function\n",
    "# Lowercase everything\n",
    "# Convert spaces to underscores\n",
    "# strip any trailing or prepended whitespace\n",
    "# filter out only valid python identifiers\n",
    "\n",
    "string = \"   PYTHON@Codeup rocks!       \"\n",
    "correct = \"pythoncodeup_rocks\"\n",
    "\n",
    "string = string.strip().replace(\" \", \"_\").lower()\n",
    "string = \"\".join([letter for letter in string if letter.isidentifier()]) # list comprehensions are iteration\n",
    "string"
   ]
  },
  {
   "cell_type": "code",
   "execution_count": 15,
   "id": "a87c53c3",
   "metadata": {},
   "outputs": [
    {
     "data": {
      "text/plain": [
       "'pythoncodeup_rocks'"
      ]
     },
     "execution_count": 15,
     "metadata": {},
     "output_type": "execute_result"
    }
   ],
   "source": [
    "correct"
   ]
  },
  {
   "cell_type": "markdown",
   "id": "4c361b58",
   "metadata": {},
   "source": [
    "## Guess the algorithm ingredient:\n",
    "[https://www.101computing.net/sequencing-selection-iteration/](https://www.101computing.net/sequencing-selection-iteration/)"
   ]
  },
  {
   "cell_type": "markdown",
   "id": "c5d44f7d",
   "metadata": {},
   "source": [
    "# This one liner is equivelant to the two liner below\n",
    "```\n",
    "string = string.strip().replace(\" \", \"_\")\n",
    "```\n",
    "is the same as:\n",
    "\n",
    "```\n",
    "string = string.strip()\n",
    "string = string.replace(\" \", \"_\")\n",
    "```\n",
    "\n",
    "They both do their operations and store to the `string` variable"
   ]
  },
  {
   "cell_type": "markdown",
   "id": "3e4c48a1",
   "metadata": {},
   "source": [
    "### Perspective\n",
    "- Variables are abstractions for values, values like 2 or \"Bob\"\n",
    "- Our variables will always point to something or give us a name error\n",
    "- Our type errors are errors in sequence\n",
    "\n",
    "Computers run the code they're told to run, not the code you want/expect to run"
   ]
  },
  {
   "cell_type": "markdown",
   "id": "83fa2dd6",
   "metadata": {},
   "source": [
    "## Selection\n",
    "- Selecting what runs\n",
    "- Conditionals like if conditions\n",
    "- If/else conditions\n",
    "- if/elif/elif/elif/elif/elif/elif/elif/elif/efif/else\n",
    "\n",
    "With selection, we're controlling what code runs and what code doesn't run.\n",
    "\n",
    "- If on its own is a side quest\n",
    "- If/else is a fork in the road. Left or right, no other option\n",
    "- if/elif/elif/elif/else is as many forks in the road as we need for the problem\n",
    "\n",
    "### Real World example of selection\n",
    "```python\n",
    "if stop_light_color == \"green\":\n",
    "    proceed_safely()\n",
    "elif stop_light_color = \"red\":\n",
    "    come_to_a_full_and_complete_stop()\n",
    "elif stop_light_color = \"yellow\":\n",
    "    if you_can_make_it_through_safely:\n",
    "        proceed()\n",
    "    else:\n",
    "        come_to_a_full_and_complete_stop()\n",
    "else:\n",
    "    joy_ride()\n",
    "\n",
    "```\n",
    "\n",
    "\n",
    "## When do we use a conditional like an if?\n",
    "- When you need the code itself to ask and answer a question\n",
    "- If you ever feel stuck where you're thinking \"I need the code to check something\", then you're in Selection land\n",
    "- Beating heart of selection is boolean evaluation (evaluating if an expression gives us True or False)\n",
    "\n",
    "- Conditionals (selection tools) are an abstraction for decision making"
   ]
  },
  {
   "cell_type": "code",
   "execution_count": 16,
   "id": "8b9896d5",
   "metadata": {},
   "outputs": [
    {
     "name": "stdout",
     "output_type": "stream",
     "text": [
      "It's going to be a great day!\n",
      "I'll bring an umbrella\n",
      "I had a great day at Codeup writing Python!\n"
     ]
    }
   ],
   "source": [
    "is_raining = True\n",
    "\n",
    "print(\"It's going to be a great day!\")\n",
    "if is_raining:\n",
    "    print(\"I'll bring an umbrella\")\n",
    "\n",
    "print(\"I had a great day at Codeup writing Python!\")"
   ]
  },
  {
   "cell_type": "code",
   "execution_count": 17,
   "id": "2fd7e06a",
   "metadata": {},
   "outputs": [
    {
     "name": "stdout",
     "output_type": "stream",
     "text": [
      "It's going to be a great day!\n",
      "I had a great day at Codeup writing Python!\n"
     ]
    }
   ],
   "source": [
    "is_raining = False\n",
    "\n",
    "print(\"It's going to be a great day!\")\n",
    "if is_raining:\n",
    "    print(\"I'll bring an umbrella\")\n",
    "\n",
    "print(\"I had a great day at Codeup writing Python!\")"
   ]
  },
  {
   "cell_type": "code",
   "execution_count": 18,
   "id": "73e793c5",
   "metadata": {},
   "outputs": [
    {
     "name": "stdout",
     "output_type": "stream",
     "text": [
      "I'll wear shorts, sandals, and carry my laptop in my hand\n"
     ]
    }
   ],
   "source": [
    "# if else is a fork in the roada\n",
    "if is_raining:\n",
    "    print(\"I'll bring an umbrella\")\n",
    "else:\n",
    "    print(\"I'll wear shorts, sandals, and carry my laptop in my hand\")"
   ]
  },
  {
   "cell_type": "markdown",
   "id": "a42471f1",
   "metadata": {},
   "source": [
    "## Combining sequence steps with selection steps:\n",
    "\n",
    "```python\n",
    "if stop_light_color == \"green\":\n",
    "    proceed_safely()\n",
    "elif stop_light_color = \"red\":\n",
    "    come_to_a_full_and_complete_stop()\n",
    "elif stop_light_color = \"yellow\" and you_can_stop_safely:\n",
    "     stop()\n",
    "elif stop_light_color == \"yellow\" and cant_stop_safely():\n",
    "    continue()\n",
    "```"
   ]
  },
  {
   "cell_type": "markdown",
   "id": "21998d31",
   "metadata": {},
   "source": [
    "# Iteration\n",
    "- do something over and over again\n",
    "- Iteration is how we repeat code.\n",
    "- Tools for iteration:\n",
    "    - while loop (low chance of building your DS castle with while loops)\n",
    "    - for loop\n",
    "    - almost all the time, we'll use a for loop to iterate a collection\n",
    "    \n",
    "- While loops == potential for infinite loop:\n",
    "    - Rejecting inputs that aren't the right shape or data type\n",
    "    - While loops are super useful with video games and elevator control software"
   ]
  },
  {
   "cell_type": "code",
   "execution_count": 20,
   "id": "dbdfac53",
   "metadata": {},
   "outputs": [
    {
     "name": "stdout",
     "output_type": "stream",
     "text": [
      "3\n",
      "5\n"
     ]
    }
   ],
   "source": [
    "# Put it all together\n",
    "# Given a list of numbers\n",
    "# output only the even numbers plus one\n",
    "numbers = [1, 2, 3, 4, 5]\n",
    "\n",
    "for n in numbers:\n",
    "    if n % 2 == 0:\n",
    "        print(n + 1)\n",
    "        \n"
   ]
  },
  {
   "cell_type": "code",
   "execution_count": null,
   "id": "0579384d",
   "metadata": {},
   "outputs": [],
   "source": []
  }
 ],
 "metadata": {
  "kernelspec": {
   "display_name": "Python 3 (ipykernel)",
   "language": "python",
   "name": "python3"
  },
  "language_info": {
   "codemirror_mode": {
    "name": "ipython",
    "version": 3
   },
   "file_extension": ".py",
   "mimetype": "text/x-python",
   "name": "python",
   "nbconvert_exporter": "python",
   "pygments_lexer": "ipython3",
   "version": "3.8.12"
  }
 },
 "nbformat": 4,
 "nbformat_minor": 5
}
