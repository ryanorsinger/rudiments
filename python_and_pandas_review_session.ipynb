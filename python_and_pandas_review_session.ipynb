{
 "cells": [
  {
   "cell_type": "markdown",
   "id": "f27bcc59",
   "metadata": {},
   "source": [
    "## Lambda functions\n",
    "- When to use, what's the upside?\n",
    "\n",
    "## Data Cleaning\n",
    "- How to even\n",
    "\n",
    "## Dataframes (working with/on DFs)\n",
    "- When to use a dataframe\n",
    "- How to clean up dataframes\n",
    "- How to replace stuff, change data types\n",
    "- What drop duplicates does?\n",
    "- Syntax: Between dataframes and series, where do the square brackets go?"
   ]
  },
  {
   "cell_type": "markdown",
   "id": "7de2f009",
   "metadata": {},
   "source": [
    "## Lambdas \n",
    "- A function definition isn't the same thing as the functing being run\n",
    "- Think of a function definition/body as a spell in your spellbook or a spell in a spell slot\n",
    "- Running the function is casting that spell\n",
    "- A lambda is a function definition/body with no name"
   ]
  },
  {
   "cell_type": "code",
   "execution_count": 1,
   "id": "9bf57b41",
   "metadata": {},
   "outputs": [
    {
     "data": {
      "text/plain": [
       "function"
      ]
     },
     "execution_count": 1,
     "metadata": {},
     "output_type": "execute_result"
    }
   ],
   "source": [
    "def add(a, b):\n",
    "    return a + b\n",
    "\n",
    "type(add)"
   ]
  },
  {
   "cell_type": "code",
   "execution_count": 2,
   "id": "ab354a9f",
   "metadata": {},
   "outputs": [
    {
     "data": {
      "text/plain": [
       "36"
      ]
     },
     "execution_count": 2,
     "metadata": {},
     "output_type": "execute_result"
    }
   ],
   "source": [
    "# Function definition is a blueprint, a recipe\n",
    "# A car horn honks, a blue print is the recipe for creating the option to honk\n",
    "# We call/run/execute/evoke functions when we type the function name w/ parentheses\n",
    "add(2, 34)"
   ]
  },
  {
   "cell_type": "code",
   "execution_count": 3,
   "id": "f93c891e",
   "metadata": {},
   "outputs": [
    {
     "data": {
      "text/plain": [
       "<function __main__.add(a, b)>"
      ]
     },
     "execution_count": 3,
     "metadata": {},
     "output_type": "execute_result"
    }
   ],
   "source": [
    "# no parens, no function execution\n",
    "# a function name on its own is the representation of that function's blueprint\n",
    "add"
   ]
  },
  {
   "cell_type": "code",
   "execution_count": 4,
   "id": "5d553ab9",
   "metadata": {},
   "outputs": [
    {
     "data": {
      "text/plain": [
       "function"
      ]
     },
     "execution_count": 4,
     "metadata": {},
     "output_type": "execute_result"
    }
   ],
   "source": [
    "add = lambda x, y: x + y\n",
    "type(add)"
   ]
  },
  {
   "cell_type": "markdown",
   "id": "c0d88d34",
   "metadata": {},
   "source": [
    "## So what do we know so far?\n",
    "- Lambdas exist to allow us to define a function in one line\n",
    "- the \"return\" is implicit\n",
    "- Lambdas in isolation aren't really valuable at all.\n",
    "- Where practitioners use lambdas is when we have methods/functions that take in a function as the input\n",
    "- You'll see lambdas used with:\n",
    "    - sorting a list of dictionary by a specific dictionary key (sort, min, max)\n",
    "    - .apply "
   ]
  },
  {
   "cell_type": "code",
   "execution_count": 5,
   "id": "dcbe5009",
   "metadata": {},
   "outputs": [
    {
     "data": {
      "text/plain": [
       "(-5, 99)"
      ]
     },
     "execution_count": 5,
     "metadata": {},
     "output_type": "execute_result"
    }
   ],
   "source": [
    "numbers = [1, 20, 99, -5]\n",
    "min(numbers), max(numbers)"
   ]
  },
  {
   "cell_type": "code",
   "execution_count": 6,
   "id": "d9cc245e",
   "metadata": {},
   "outputs": [],
   "source": [
    "books = [\n",
    "    {\n",
    "        \"title\": \"The Giving Tree\",\n",
    "        \"author\": \"Shel Silverstein\",\n",
    "        \"price\": \"$2.99\",\n",
    "        \"locations\": [\"Half-Price Books\", \"Target\", \"Library\"]\n",
    "    },\n",
    "    {\n",
    "        \"title\": \"How to Win Friends and Influence People\",\n",
    "        \"author\": \"Dale Carnegie\",\n",
    "        \"price\": \"$0.99\",\n",
    "        \"locations\": [\"Chewie Bookshelf\", \"Target\", \"Library\"]\n",
    "    },\n",
    "    {\n",
    "        \"title\": \"Visual Display of Quantitative Information\",\n",
    "        \"author\": \"Edward Tufte\",\n",
    "        \"price\": \"$40.00\",\n",
    "        \"locations\": [\"https://tufte.com\"]\n",
    "    },\n",
    "    {\n",
    "        \"title\": \"Black Swan\",\n",
    "        \"author\": \"Nassim Taleb\",\n",
    "        \"price\": \"$12.50\",\n",
    "        \"locations\": [\"BN.com\", \"Amazon.com\", \"Library\"]\n",
    "    },\n",
    "]"
   ]
  },
  {
   "cell_type": "code",
   "execution_count": 7,
   "id": "c21f4e38",
   "metadata": {},
   "outputs": [],
   "source": [
    "# This is a defined function we could use elsewhere\n",
    "def by_price(book):\n",
    "    return book[\"price\"]"
   ]
  },
  {
   "cell_type": "code",
   "execution_count": 8,
   "id": "bc8eaa17",
   "metadata": {},
   "outputs": [
    {
     "data": {
      "text/plain": [
       "{'title': 'Visual Display of Quantitative Information',\n",
       " 'author': 'Edward Tufte',\n",
       " 'price': '$40.00',\n",
       " 'locations': ['https://tufte.com']}"
      ]
     },
     "execution_count": 8,
     "metadata": {},
     "output_type": "execute_result"
    }
   ],
   "source": [
    "# Pay special attention to the by_price being an input...\n",
    "# Notice that by_price doesn't have its own parentheses\n",
    "max(books, key=by_price)"
   ]
  },
  {
   "cell_type": "code",
   "execution_count": 9,
   "id": "2d9b8f7a",
   "metadata": {},
   "outputs": [
    {
     "data": {
      "text/plain": [
       "{'title': 'Visual Display of Quantitative Information',\n",
       " 'author': 'Edward Tufte',\n",
       " 'price': '$40.00',\n",
       " 'locations': ['https://tufte.com']}"
      ]
     },
     "execution_count": 9,
     "metadata": {},
     "output_type": "execute_result"
    }
   ],
   "source": [
    "max(books, key=lambda book: book[\"price\"])"
   ]
  },
  {
   "cell_type": "code",
   "execution_count": 10,
   "id": "c9a1a92b",
   "metadata": {},
   "outputs": [
    {
     "data": {
      "text/plain": [
       "{'title': 'How to Win Friends and Influence People',\n",
       " 'author': 'Dale Carnegie',\n",
       " 'price': '$0.99',\n",
       " 'locations': ['Chewie Bookshelf', 'Target', 'Library']}"
      ]
     },
     "execution_count": 10,
     "metadata": {},
     "output_type": "execute_result"
    }
   ],
   "source": [
    "min(books, key=lambda book:book[\"author\"])"
   ]
  },
  {
   "cell_type": "code",
   "execution_count": 11,
   "id": "e3821fd6",
   "metadata": {},
   "outputs": [
    {
     "data": {
      "text/plain": [
       "[{'title': 'Black Swan',\n",
       "  'author': 'Nassim Taleb',\n",
       "  'price': '$12.50',\n",
       "  'locations': ['BN.com', 'Amazon.com', 'Library']},\n",
       " {'title': 'How to Win Friends and Influence People',\n",
       "  'author': 'Dale Carnegie',\n",
       "  'price': '$0.99',\n",
       "  'locations': ['Chewie Bookshelf', 'Target', 'Library']},\n",
       " {'title': 'The Giving Tree',\n",
       "  'author': 'Shel Silverstein',\n",
       "  'price': '$2.99',\n",
       "  'locations': ['Half-Price Books', 'Target', 'Library']},\n",
       " {'title': 'Visual Display of Quantitative Information',\n",
       "  'author': 'Edward Tufte',\n",
       "  'price': '$40.00',\n",
       "  'locations': ['https://tufte.com']}]"
      ]
     },
     "execution_count": 11,
     "metadata": {},
     "output_type": "execute_result"
    }
   ],
   "source": [
    "sorted(books, key=lambda book: book[\"title\"])"
   ]
  },
  {
   "cell_type": "code",
   "execution_count": 12,
   "id": "21f9a909",
   "metadata": {},
   "outputs": [
    {
     "data": {
      "text/plain": [
       "[{'title': 'How to Win Friends and Influence People',\n",
       "  'author': 'Dale Carnegie',\n",
       "  'price': '$0.99',\n",
       "  'locations': ['Chewie Bookshelf', 'Target', 'Library']},\n",
       " {'title': 'Black Swan',\n",
       "  'author': 'Nassim Taleb',\n",
       "  'price': '$12.50',\n",
       "  'locations': ['BN.com', 'Amazon.com', 'Library']},\n",
       " {'title': 'The Giving Tree',\n",
       "  'author': 'Shel Silverstein',\n",
       "  'price': '$2.99',\n",
       "  'locations': ['Half-Price Books', 'Target', 'Library']},\n",
       " {'title': 'Visual Display of Quantitative Information',\n",
       "  'author': 'Edward Tufte',\n",
       "  'price': '$40.00',\n",
       "  'locations': ['https://tufte.com']}]"
      ]
     },
     "execution_count": 12,
     "metadata": {},
     "output_type": "execute_result"
    }
   ],
   "source": [
    "sorted(books, key=lambda book: book[\"price\"])"
   ]
  },
  {
   "cell_type": "code",
   "execution_count": 13,
   "id": "136032f4",
   "metadata": {},
   "outputs": [
    {
     "data": {
      "text/plain": [
       "[{'title': 'The Giving Tree',\n",
       "  'author': 'Shel Silverstein',\n",
       "  'price': '$2.99',\n",
       "  'locations': ['Half-Price Books', 'Target', 'Library']},\n",
       " {'title': 'How to Win Friends and Influence People',\n",
       "  'author': 'Dale Carnegie',\n",
       "  'price': '$0.99',\n",
       "  'locations': ['Chewie Bookshelf', 'Target', 'Library']},\n",
       " {'title': 'Visual Display of Quantitative Information',\n",
       "  'author': 'Edward Tufte',\n",
       "  'price': '$40.00',\n",
       "  'locations': ['https://tufte.com']},\n",
       " {'title': 'Black Swan',\n",
       "  'author': 'Nassim Taleb',\n",
       "  'price': '$12.50',\n",
       "  'locations': ['BN.com', 'Amazon.com', 'Library']}]"
      ]
     },
     "execution_count": 13,
     "metadata": {},
     "output_type": "execute_result"
    }
   ],
   "source": [
    "# Books list of dictionaries\n",
    "# Almost every key is a single scalar (one number or one string)\n",
    "# Locations key points to a list\n",
    "books"
   ]
  },
  {
   "cell_type": "code",
   "execution_count": 14,
   "id": "172116ed",
   "metadata": {},
   "outputs": [
    {
     "data": {
      "text/plain": [
       "{'title': 'The Giving Tree',\n",
       " 'author': 'Shel Silverstein',\n",
       " 'price': '$2.99',\n",
       " 'locations': ['Half-Price Books', 'Target', 'Library']}"
      ]
     },
     "execution_count": 14,
     "metadata": {},
     "output_type": "execute_result"
    }
   ],
   "source": [
    "# How do we access the first item on a list?\n",
    "books[0]"
   ]
  },
  {
   "cell_type": "code",
   "execution_count": 15,
   "id": "4e1c4e80",
   "metadata": {},
   "outputs": [
    {
     "data": {
      "text/plain": [
       "'Shel Silverstein'"
      ]
     },
     "execution_count": 15,
     "metadata": {},
     "output_type": "execute_result"
    }
   ],
   "source": [
    "# How we access the author of the first item on the list?\n",
    "# We need to specify the \"author\" key\n",
    "# If some line of code gives you a dictionary, treat that expression like a dictionary\n",
    "books[0][\"author\"]"
   ]
  },
  {
   "cell_type": "code",
   "execution_count": 16,
   "id": "a6a5f334",
   "metadata": {},
   "outputs": [
    {
     "data": {
      "text/plain": [
       "'S'"
      ]
     },
     "execution_count": 16,
     "metadata": {},
     "output_type": "execute_result"
    }
   ],
   "source": [
    "# How we access the first character of the author of the first item on the list?\n",
    "books[0][\"author\"][0]"
   ]
  },
  {
   "cell_type": "code",
   "execution_count": 17,
   "id": "43f47a38",
   "metadata": {},
   "outputs": [
    {
     "data": {
      "text/plain": [
       "'Library'"
      ]
     },
     "execution_count": 17,
     "metadata": {},
     "output_type": "execute_result"
    }
   ],
   "source": [
    "# How to access the last location of the last book?\n",
    "books[-1][\"locations\"][-1]"
   ]
  },
  {
   "cell_type": "code",
   "execution_count": 18,
   "id": "f4ac4f94",
   "metadata": {},
   "outputs": [
    {
     "data": {
      "text/plain": [
       "'pineapple'"
      ]
     },
     "execution_count": 18,
     "metadata": {},
     "output_type": "execute_result"
    }
   ],
   "source": [
    "# Slicing syntax\n",
    "\"pineapple\"[0:]"
   ]
  },
  {
   "cell_type": "code",
   "execution_count": 19,
   "id": "a2ff645a",
   "metadata": {},
   "outputs": [
    {
     "data": {
      "text/plain": [
       "'apple'"
      ]
     },
     "execution_count": 19,
     "metadata": {},
     "output_type": "execute_result"
    }
   ],
   "source": [
    "# Slicing syntax\n",
    "# start at index 4\n",
    "\"pineapple\"[4:]"
   ]
  },
  {
   "cell_type": "code",
   "execution_count": 20,
   "id": "d9e9a7f9",
   "metadata": {},
   "outputs": [
    {
     "data": {
      "text/plain": [
       "['Shel Silverstein', 'Dale Carnegie']"
      ]
     },
     "execution_count": 20,
     "metadata": {},
     "output_type": "execute_result"
    }
   ],
   "source": [
    "# How do we produce a list of only the first two authors?\n",
    "[\n",
    "    books[0][\"author\"],\n",
    "    books[1][\"author\"]\n",
    "    \n",
    "]"
   ]
  },
  {
   "cell_type": "code",
   "execution_count": 21,
   "id": "7d6bc768",
   "metadata": {},
   "outputs": [
    {
     "data": {
      "text/plain": [
       "['Shel Silverstein', 'Dale Carnegie', 'Edward Tufte', 'Nassim Taleb']"
      ]
     },
     "execution_count": 21,
     "metadata": {},
     "output_type": "execute_result"
    }
   ],
   "source": [
    "# If we need to produce a list of only the authors\n",
    "authors = []\n",
    "for book in books:\n",
    "    author_name = book[\"author\"]\n",
    "    authors.append(author_name)\n",
    "\n",
    "authors"
   ]
  },
  {
   "cell_type": "code",
   "execution_count": 22,
   "id": "b075615c",
   "metadata": {},
   "outputs": [
    {
     "data": {
      "text/plain": [
       "[{'title': 'The Giving Tree',\n",
       "  'author': 'Shel Silverstein',\n",
       "  'price': '$2.99',\n",
       "  'locations': ['Half-Price Books', 'Target', 'Library']},\n",
       " {'title': 'How to Win Friends and Influence People',\n",
       "  'author': 'Dale Carnegie',\n",
       "  'price': '$0.99',\n",
       "  'locations': ['Chewie Bookshelf', 'Target', 'Library']},\n",
       " {'title': 'Visual Display of Quantitative Information',\n",
       "  'author': 'Edward Tufte',\n",
       "  'price': '$40.00',\n",
       "  'locations': ['https://tufte.com']},\n",
       " {'title': 'Black Swan',\n",
       "  'author': 'Nassim Taleb',\n",
       "  'price': '$12.50',\n",
       "  'locations': ['BN.com', 'Amazon.com', 'Library']}]"
      ]
     },
     "execution_count": 22,
     "metadata": {},
     "output_type": "execute_result"
    }
   ],
   "source": [
    "books"
   ]
  },
  {
   "cell_type": "markdown",
   "id": "65fd0701",
   "metadata": {},
   "source": [
    "## Data Cleaning\n",
    "- We can't do math on strings"
   ]
  },
  {
   "cell_type": "code",
   "execution_count": 23,
   "id": "16580364",
   "metadata": {},
   "outputs": [
    {
     "data": {
      "text/plain": [
       "'mangoicee'"
      ]
     },
     "execution_count": 23,
     "metadata": {},
     "output_type": "execute_result"
    }
   ],
   "source": [
    "# \"adding\" strings is not a type error\n",
    "# but if the strings hold numbers, we don't add the numbers, only concat the string\n",
    "\"mango\" + \"icee\""
   ]
  },
  {
   "cell_type": "code",
   "execution_count": 24,
   "id": "a44b7444",
   "metadata": {},
   "outputs": [
    {
     "data": {
      "text/plain": [
       "'mangomangomango'"
      ]
     },
     "execution_count": 24,
     "metadata": {},
     "output_type": "execute_result"
    }
   ],
   "source": [
    "# Multiplying a string by a number repeats the string...\n",
    "\"mango\" * 3"
   ]
  },
  {
   "cell_type": "code",
   "execution_count": 25,
   "id": "f8c73b39",
   "metadata": {},
   "outputs": [
    {
     "data": {
      "text/plain": [
       "{'price': 2.99}"
      ]
     },
     "execution_count": 25,
     "metadata": {},
     "output_type": "execute_result"
    }
   ],
   "source": [
    "def get_price(book):\n",
    "    # reassigning is over-writing an existing variable \n",
    "    # to point to a new or transformed value\n",
    "    book[\"price\"] = float(book[\"price\"].replace(\"$\", \"\"))\n",
    "    return book\n",
    "\n",
    "get_price({\"price\": \"$2.99\"})"
   ]
  },
  {
   "cell_type": "code",
   "execution_count": 26,
   "id": "9cb679bd",
   "metadata": {},
   "outputs": [
    {
     "data": {
      "text/plain": [
       "[{'title': 'The Giving Tree',\n",
       "  'author': 'Shel Silverstein',\n",
       "  'price': 2.99,\n",
       "  'locations': ['Half-Price Books', 'Target', 'Library']},\n",
       " {'title': 'How to Win Friends and Influence People',\n",
       "  'author': 'Dale Carnegie',\n",
       "  'price': 0.99,\n",
       "  'locations': ['Chewie Bookshelf', 'Target', 'Library']},\n",
       " {'title': 'Visual Display of Quantitative Information',\n",
       "  'author': 'Edward Tufte',\n",
       "  'price': 40.0,\n",
       "  'locations': ['https://tufte.com']},\n",
       " {'title': 'Black Swan',\n",
       "  'author': 'Nassim Taleb',\n",
       "  'price': 12.5,\n",
       "  'locations': ['BN.com', 'Amazon.com', 'Library']}]"
      ]
     },
     "execution_count": 26,
     "metadata": {},
     "output_type": "execute_result"
    }
   ],
   "source": [
    "# Base python data cleaning of our books list\n",
    "clean_books = []\n",
    "\n",
    "# for singular in plural\n",
    "for book in books:\n",
    "    clean_book = get_price(book)\n",
    "    clean_books.append(clean_book)\n",
    "    \n",
    "clean_books"
   ]
  },
  {
   "cell_type": "code",
   "execution_count": 27,
   "id": "5ca72b27",
   "metadata": {},
   "outputs": [
    {
     "data": {
      "text/plain": [
       "56.480000000000004"
      ]
     },
     "execution_count": 27,
     "metadata": {},
     "output_type": "execute_result"
    }
   ],
   "source": [
    "total = 0\n",
    "for book in books:\n",
    "    # += is short for total = total + something\n",
    "    total += book[\"price\"]\n",
    "\n",
    "total"
   ]
  },
  {
   "cell_type": "code",
   "execution_count": 28,
   "id": "c3eca20a",
   "metadata": {},
   "outputs": [],
   "source": [
    "# Let's redefine this to be the messy data\n",
    "books = [\n",
    "    {\n",
    "        \"title\": \"The Giving Tree\",\n",
    "        \"author\": \"Shel Silverstein\",\n",
    "        \"price\": \"$2.99\",\n",
    "        \"locations\": [\"Half-Price Books\", \"Target\", \"Library\"]\n",
    "    },\n",
    "    {\n",
    "        \"title\": \"How to Win Friends and Influence People\",\n",
    "        \"author\": \"Dale Carnegie\",\n",
    "        \"price\": \"$0.99\",\n",
    "        \"locations\": [\"Chewie Bookshelf\", \"Target\", \"Library\"]\n",
    "    },\n",
    "    {\n",
    "        \"title\": \"Visual Display of Quantitative Information\",\n",
    "        \"author\": \"Edward Tufte\",\n",
    "        \"price\": \"$40.00\",\n",
    "        \"locations\": [\"https://tufte.com\"]\n",
    "    },\n",
    "    {\n",
    "        \"title\": \"Black Swan\",\n",
    "        \"author\": \"Nassim Taleb\",\n",
    "        \"price\": \"$12.50\",\n",
    "        \"locations\": [\"BN.com\", \"Amazon.com\", \"Library\"]\n",
    "    },\n",
    "    {\n",
    "        \"title\": \"Black Swan\",\n",
    "        \"author\": \"Nassim Taleb\",\n",
    "        \"price\": \"$12.50\",\n",
    "        \"locations\": [\"BN.com\", \"Amazon.com\", \"Library\"]\n",
    "    },\n",
    "    {\n",
    "        \"title\": \"Black Swan\",\n",
    "        \"author\": \"Nassim Taleb\",\n",
    "        \"price\": \"$12.50\",\n",
    "        \"locations\": [\"BN.com\", \"Amazon.com\", \"Library\"]\n",
    "    }\n",
    "]"
   ]
  },
  {
   "cell_type": "code",
   "execution_count": 29,
   "id": "22e62635",
   "metadata": {},
   "outputs": [],
   "source": [
    "import pandas as pd"
   ]
  },
  {
   "cell_type": "code",
   "execution_count": 30,
   "id": "e236910b",
   "metadata": {},
   "outputs": [
    {
     "data": {
      "text/html": [
       "<div>\n",
       "<style scoped>\n",
       "    .dataframe tbody tr th:only-of-type {\n",
       "        vertical-align: middle;\n",
       "    }\n",
       "\n",
       "    .dataframe tbody tr th {\n",
       "        vertical-align: top;\n",
       "    }\n",
       "\n",
       "    .dataframe thead th {\n",
       "        text-align: right;\n",
       "    }\n",
       "</style>\n",
       "<table border=\"1\" class=\"dataframe\">\n",
       "  <thead>\n",
       "    <tr style=\"text-align: right;\">\n",
       "      <th></th>\n",
       "      <th>title</th>\n",
       "      <th>author</th>\n",
       "      <th>price</th>\n",
       "      <th>locations</th>\n",
       "    </tr>\n",
       "  </thead>\n",
       "  <tbody>\n",
       "    <tr>\n",
       "      <th>0</th>\n",
       "      <td>The Giving Tree</td>\n",
       "      <td>Shel Silverstein</td>\n",
       "      <td>$2.99</td>\n",
       "      <td>[Half-Price Books, Target, Library]</td>\n",
       "    </tr>\n",
       "    <tr>\n",
       "      <th>1</th>\n",
       "      <td>How to Win Friends and Influence People</td>\n",
       "      <td>Dale Carnegie</td>\n",
       "      <td>$0.99</td>\n",
       "      <td>[Chewie Bookshelf, Target, Library]</td>\n",
       "    </tr>\n",
       "    <tr>\n",
       "      <th>2</th>\n",
       "      <td>Visual Display of Quantitative Information</td>\n",
       "      <td>Edward Tufte</td>\n",
       "      <td>$40.00</td>\n",
       "      <td>[https://tufte.com]</td>\n",
       "    </tr>\n",
       "    <tr>\n",
       "      <th>3</th>\n",
       "      <td>Black Swan</td>\n",
       "      <td>Nassim Taleb</td>\n",
       "      <td>$12.50</td>\n",
       "      <td>[BN.com, Amazon.com, Library]</td>\n",
       "    </tr>\n",
       "    <tr>\n",
       "      <th>4</th>\n",
       "      <td>Black Swan</td>\n",
       "      <td>Nassim Taleb</td>\n",
       "      <td>$12.50</td>\n",
       "      <td>[BN.com, Amazon.com, Library]</td>\n",
       "    </tr>\n",
       "    <tr>\n",
       "      <th>5</th>\n",
       "      <td>Black Swan</td>\n",
       "      <td>Nassim Taleb</td>\n",
       "      <td>$12.50</td>\n",
       "      <td>[BN.com, Amazon.com, Library]</td>\n",
       "    </tr>\n",
       "  </tbody>\n",
       "</table>\n",
       "</div>"
      ],
      "text/plain": [
       "                                        title            author   price  \\\n",
       "0                             The Giving Tree  Shel Silverstein   $2.99   \n",
       "1     How to Win Friends and Influence People     Dale Carnegie   $0.99   \n",
       "2  Visual Display of Quantitative Information      Edward Tufte  $40.00   \n",
       "3                                  Black Swan      Nassim Taleb  $12.50   \n",
       "4                                  Black Swan      Nassim Taleb  $12.50   \n",
       "5                                  Black Swan      Nassim Taleb  $12.50   \n",
       "\n",
       "                             locations  \n",
       "0  [Half-Price Books, Target, Library]  \n",
       "1  [Chewie Bookshelf, Target, Library]  \n",
       "2                  [https://tufte.com]  \n",
       "3        [BN.com, Amazon.com, Library]  \n",
       "4        [BN.com, Amazon.com, Library]  \n",
       "5        [BN.com, Amazon.com, Library]  "
      ]
     },
     "execution_count": 30,
     "metadata": {},
     "output_type": "execute_result"
    }
   ],
   "source": [
    "df = pd.DataFrame(books)\n",
    "df"
   ]
  },
  {
   "cell_type": "code",
   "execution_count": 31,
   "id": "cd63b409",
   "metadata": {},
   "outputs": [
    {
     "name": "stderr",
     "output_type": "stream",
     "text": [
      "/var/folders/d_/7tbp5nsn0675p_4kcchp75k80000gp/T/ipykernel_8156/3636616768.py:2: FutureWarning: The default value of regex will change from True to False in a future version. In addition, single character regular expressions will *not* be treated as literal strings when regex=True.\n",
      "  df[\"price\"] = df[\"price\"].str.replace(\"$\", \"\").astype(float)\n"
     ]
    },
    {
     "data": {
      "text/html": [
       "<div>\n",
       "<style scoped>\n",
       "    .dataframe tbody tr th:only-of-type {\n",
       "        vertical-align: middle;\n",
       "    }\n",
       "\n",
       "    .dataframe tbody tr th {\n",
       "        vertical-align: top;\n",
       "    }\n",
       "\n",
       "    .dataframe thead th {\n",
       "        text-align: right;\n",
       "    }\n",
       "</style>\n",
       "<table border=\"1\" class=\"dataframe\">\n",
       "  <thead>\n",
       "    <tr style=\"text-align: right;\">\n",
       "      <th></th>\n",
       "      <th>title</th>\n",
       "      <th>author</th>\n",
       "      <th>price</th>\n",
       "      <th>locations</th>\n",
       "    </tr>\n",
       "  </thead>\n",
       "  <tbody>\n",
       "    <tr>\n",
       "      <th>0</th>\n",
       "      <td>The Giving Tree</td>\n",
       "      <td>Shel Silverstein</td>\n",
       "      <td>2.99</td>\n",
       "      <td>[Half-Price Books, Target, Library]</td>\n",
       "    </tr>\n",
       "    <tr>\n",
       "      <th>1</th>\n",
       "      <td>How to Win Friends and Influence People</td>\n",
       "      <td>Dale Carnegie</td>\n",
       "      <td>0.99</td>\n",
       "      <td>[Chewie Bookshelf, Target, Library]</td>\n",
       "    </tr>\n",
       "    <tr>\n",
       "      <th>2</th>\n",
       "      <td>Visual Display of Quantitative Information</td>\n",
       "      <td>Edward Tufte</td>\n",
       "      <td>40.00</td>\n",
       "      <td>[https://tufte.com]</td>\n",
       "    </tr>\n",
       "    <tr>\n",
       "      <th>3</th>\n",
       "      <td>Black Swan</td>\n",
       "      <td>Nassim Taleb</td>\n",
       "      <td>12.50</td>\n",
       "      <td>[BN.com, Amazon.com, Library]</td>\n",
       "    </tr>\n",
       "    <tr>\n",
       "      <th>4</th>\n",
       "      <td>Black Swan</td>\n",
       "      <td>Nassim Taleb</td>\n",
       "      <td>12.50</td>\n",
       "      <td>[BN.com, Amazon.com, Library]</td>\n",
       "    </tr>\n",
       "    <tr>\n",
       "      <th>5</th>\n",
       "      <td>Black Swan</td>\n",
       "      <td>Nassim Taleb</td>\n",
       "      <td>12.50</td>\n",
       "      <td>[BN.com, Amazon.com, Library]</td>\n",
       "    </tr>\n",
       "  </tbody>\n",
       "</table>\n",
       "</div>"
      ],
      "text/plain": [
       "                                        title            author  price  \\\n",
       "0                             The Giving Tree  Shel Silverstein   2.99   \n",
       "1     How to Win Friends and Influence People     Dale Carnegie   0.99   \n",
       "2  Visual Display of Quantitative Information      Edward Tufte  40.00   \n",
       "3                                  Black Swan      Nassim Taleb  12.50   \n",
       "4                                  Black Swan      Nassim Taleb  12.50   \n",
       "5                                  Black Swan      Nassim Taleb  12.50   \n",
       "\n",
       "                             locations  \n",
       "0  [Half-Price Books, Target, Library]  \n",
       "1  [Chewie Bookshelf, Target, Library]  \n",
       "2                  [https://tufte.com]  \n",
       "3        [BN.com, Amazon.com, Library]  \n",
       "4        [BN.com, Amazon.com, Library]  \n",
       "5        [BN.com, Amazon.com, Library]  "
      ]
     },
     "execution_count": 31,
     "metadata": {},
     "output_type": "execute_result"
    }
   ],
   "source": [
    "# How do we clean the price column?\n",
    "df[\"price\"] = df[\"price\"].str.replace(\"$\", \"\").astype(float)\n",
    "df"
   ]
  },
  {
   "cell_type": "code",
   "execution_count": 32,
   "id": "9d7e38ed",
   "metadata": {},
   "outputs": [
    {
     "data": {
      "text/plain": [
       "1.99"
      ]
     },
     "execution_count": 32,
     "metadata": {},
     "output_type": "execute_result"
    }
   ],
   "source": [
    "# We need to re-assign variables to re-assign the values they point to in memory\n",
    "price = \"$1.99\"\n",
    "price = float(price.replace(\"$\", \"\"))\n",
    "price"
   ]
  },
  {
   "cell_type": "code",
   "execution_count": 33,
   "id": "0f206d86",
   "metadata": {},
   "outputs": [
    {
     "data": {
      "text/plain": [
       "81.48"
      ]
     },
     "execution_count": 33,
     "metadata": {},
     "output_type": "execute_result"
    }
   ],
   "source": [
    "# What's the sum of all the prices?\n",
    "df.price.sum()"
   ]
  },
  {
   "cell_type": "code",
   "execution_count": 34,
   "id": "8dec3bf1",
   "metadata": {},
   "outputs": [
    {
     "data": {
      "text/plain": [
       "13.58"
      ]
     },
     "execution_count": 34,
     "metadata": {},
     "output_type": "execute_result"
    }
   ],
   "source": [
    "# What's the average price?\n",
    "df.price.mean()"
   ]
  },
  {
   "cell_type": "code",
   "execution_count": 35,
   "id": "ffa7aac2",
   "metadata": {},
   "outputs": [],
   "source": [
    "# accessing lists with .apply to get at fields in a dataframe that are collections\n",
    "# Exercise: create a simple list of all of the locations represented\n",
    "# If you ever feel like you NEEED NEED NEED a for loop on dataframe, consider using .apply(axis=1)"
   ]
  },
  {
   "cell_type": "code",
   "execution_count": 36,
   "id": "f6e315fa",
   "metadata": {},
   "outputs": [],
   "source": [
    "all_locations = []"
   ]
  },
  {
   "cell_type": "code",
   "execution_count": 37,
   "id": "d82a727b",
   "metadata": {},
   "outputs": [
    {
     "data": {
      "text/plain": [
       "['SAMS club', 'Costco', 'The Twig']"
      ]
     },
     "execution_count": 37,
     "metadata": {},
     "output_type": "execute_result"
    }
   ],
   "source": [
    "def append_locations(locations):\n",
    "    for location in locations:\n",
    "        all_locations.append(location)\n",
    "\n",
    "append_locations([\"SAMS club\", \"Costco\", \"The Twig\"])\n",
    "\n",
    "all_locations"
   ]
  },
  {
   "cell_type": "code",
   "execution_count": 38,
   "id": "cf9d0e15",
   "metadata": {},
   "outputs": [
    {
     "data": {
      "text/plain": [
       "['SAMS club', 'Costco', 'The Twig', 'ryanorsinger.com']"
      ]
     },
     "execution_count": 38,
     "metadata": {},
     "output_type": "execute_result"
    }
   ],
   "source": [
    "append_locations([\"ryanorsinger.com\"])\n",
    "\n",
    "all_locations"
   ]
  },
  {
   "cell_type": "code",
   "execution_count": 39,
   "id": "af74be63",
   "metadata": {},
   "outputs": [
    {
     "data": {
      "text/html": [
       "<div>\n",
       "<style scoped>\n",
       "    .dataframe tbody tr th:only-of-type {\n",
       "        vertical-align: middle;\n",
       "    }\n",
       "\n",
       "    .dataframe tbody tr th {\n",
       "        vertical-align: top;\n",
       "    }\n",
       "\n",
       "    .dataframe thead th {\n",
       "        text-align: right;\n",
       "    }\n",
       "</style>\n",
       "<table border=\"1\" class=\"dataframe\">\n",
       "  <thead>\n",
       "    <tr style=\"text-align: right;\">\n",
       "      <th></th>\n",
       "      <th>title</th>\n",
       "      <th>author</th>\n",
       "      <th>price</th>\n",
       "      <th>locations</th>\n",
       "    </tr>\n",
       "  </thead>\n",
       "  <tbody>\n",
       "    <tr>\n",
       "      <th>0</th>\n",
       "      <td>The Giving Tree</td>\n",
       "      <td>Shel Silverstein</td>\n",
       "      <td>2.99</td>\n",
       "      <td>[Half-Price Books, Target, Library]</td>\n",
       "    </tr>\n",
       "    <tr>\n",
       "      <th>1</th>\n",
       "      <td>How to Win Friends and Influence People</td>\n",
       "      <td>Dale Carnegie</td>\n",
       "      <td>0.99</td>\n",
       "      <td>[Chewie Bookshelf, Target, Library]</td>\n",
       "    </tr>\n",
       "    <tr>\n",
       "      <th>2</th>\n",
       "      <td>Visual Display of Quantitative Information</td>\n",
       "      <td>Edward Tufte</td>\n",
       "      <td>40.00</td>\n",
       "      <td>[https://tufte.com]</td>\n",
       "    </tr>\n",
       "    <tr>\n",
       "      <th>3</th>\n",
       "      <td>Black Swan</td>\n",
       "      <td>Nassim Taleb</td>\n",
       "      <td>12.50</td>\n",
       "      <td>[BN.com, Amazon.com, Library]</td>\n",
       "    </tr>\n",
       "    <tr>\n",
       "      <th>4</th>\n",
       "      <td>Black Swan</td>\n",
       "      <td>Nassim Taleb</td>\n",
       "      <td>12.50</td>\n",
       "      <td>[BN.com, Amazon.com, Library]</td>\n",
       "    </tr>\n",
       "  </tbody>\n",
       "</table>\n",
       "</div>"
      ],
      "text/plain": [
       "                                        title            author  price  \\\n",
       "0                             The Giving Tree  Shel Silverstein   2.99   \n",
       "1     How to Win Friends and Influence People     Dale Carnegie   0.99   \n",
       "2  Visual Display of Quantitative Information      Edward Tufte  40.00   \n",
       "3                                  Black Swan      Nassim Taleb  12.50   \n",
       "4                                  Black Swan      Nassim Taleb  12.50   \n",
       "\n",
       "                             locations  \n",
       "0  [Half-Price Books, Target, Library]  \n",
       "1  [Chewie Bookshelf, Target, Library]  \n",
       "2                  [https://tufte.com]  \n",
       "3        [BN.com, Amazon.com, Library]  \n",
       "4        [BN.com, Amazon.com, Library]  "
      ]
     },
     "execution_count": 39,
     "metadata": {},
     "output_type": "execute_result"
    }
   ],
   "source": [
    "df.head()"
   ]
  },
  {
   "cell_type": "code",
   "execution_count": 40,
   "id": "e066c225",
   "metadata": {},
   "outputs": [],
   "source": [
    "all_locations = []"
   ]
  },
  {
   "cell_type": "code",
   "execution_count": 41,
   "id": "efd6830d",
   "metadata": {},
   "outputs": [
    {
     "data": {
      "text/plain": [
       "0    None\n",
       "1    None\n",
       "2    None\n",
       "3    None\n",
       "4    None\n",
       "5    None\n",
       "Name: locations, dtype: object"
      ]
     },
     "execution_count": 41,
     "metadata": {},
     "output_type": "execute_result"
    }
   ],
   "source": [
    "# Axis=1 tells the .apply to apply the provided function to each row\n",
    "# The append_locations function did not return a value, which is why the output is None\n",
    "# The functionality of append_locations is to directly append strings from each list to a larger list\n",
    "# There's no return value, so the return is None\n",
    "df.locations.apply(append_locations)"
   ]
  },
  {
   "cell_type": "code",
   "execution_count": 42,
   "id": "1b2cc4cd",
   "metadata": {},
   "outputs": [
    {
     "data": {
      "text/html": [
       "<div>\n",
       "<style scoped>\n",
       "    .dataframe tbody tr th:only-of-type {\n",
       "        vertical-align: middle;\n",
       "    }\n",
       "\n",
       "    .dataframe tbody tr th {\n",
       "        vertical-align: top;\n",
       "    }\n",
       "\n",
       "    .dataframe thead th {\n",
       "        text-align: right;\n",
       "    }\n",
       "</style>\n",
       "<table border=\"1\" class=\"dataframe\">\n",
       "  <thead>\n",
       "    <tr style=\"text-align: right;\">\n",
       "      <th></th>\n",
       "      <th>title</th>\n",
       "      <th>author</th>\n",
       "      <th>price</th>\n",
       "      <th>locations</th>\n",
       "    </tr>\n",
       "  </thead>\n",
       "  <tbody>\n",
       "    <tr>\n",
       "      <th>0</th>\n",
       "      <td>The Giving Tree</td>\n",
       "      <td>Shel Silverstein</td>\n",
       "      <td>2.99</td>\n",
       "      <td>[Half-Price Books, Target, Library]</td>\n",
       "    </tr>\n",
       "    <tr>\n",
       "      <th>1</th>\n",
       "      <td>How to Win Friends and Influence People</td>\n",
       "      <td>Dale Carnegie</td>\n",
       "      <td>0.99</td>\n",
       "      <td>[Chewie Bookshelf, Target, Library]</td>\n",
       "    </tr>\n",
       "    <tr>\n",
       "      <th>2</th>\n",
       "      <td>Visual Display of Quantitative Information</td>\n",
       "      <td>Edward Tufte</td>\n",
       "      <td>40.00</td>\n",
       "      <td>[https://tufte.com]</td>\n",
       "    </tr>\n",
       "    <tr>\n",
       "      <th>3</th>\n",
       "      <td>Black Swan</td>\n",
       "      <td>Nassim Taleb</td>\n",
       "      <td>12.50</td>\n",
       "      <td>[BN.com, Amazon.com, Library]</td>\n",
       "    </tr>\n",
       "    <tr>\n",
       "      <th>4</th>\n",
       "      <td>Black Swan</td>\n",
       "      <td>Nassim Taleb</td>\n",
       "      <td>12.50</td>\n",
       "      <td>[BN.com, Amazon.com, Library]</td>\n",
       "    </tr>\n",
       "  </tbody>\n",
       "</table>\n",
       "</div>"
      ],
      "text/plain": [
       "                                        title            author  price  \\\n",
       "0                             The Giving Tree  Shel Silverstein   2.99   \n",
       "1     How to Win Friends and Influence People     Dale Carnegie   0.99   \n",
       "2  Visual Display of Quantitative Information      Edward Tufte  40.00   \n",
       "3                                  Black Swan      Nassim Taleb  12.50   \n",
       "4                                  Black Swan      Nassim Taleb  12.50   \n",
       "\n",
       "                             locations  \n",
       "0  [Half-Price Books, Target, Library]  \n",
       "1  [Chewie Bookshelf, Target, Library]  \n",
       "2                  [https://tufte.com]  \n",
       "3        [BN.com, Amazon.com, Library]  \n",
       "4        [BN.com, Amazon.com, Library]  "
      ]
     },
     "execution_count": 42,
     "metadata": {},
     "output_type": "execute_result"
    }
   ],
   "source": [
    "df.head()"
   ]
  },
  {
   "cell_type": "code",
   "execution_count": 43,
   "id": "9ca19b02",
   "metadata": {},
   "outputs": [
    {
     "data": {
      "text/plain": [
       "{'Amazon.com',\n",
       " 'BN.com',\n",
       " 'Chewie Bookshelf',\n",
       " 'Half-Price Books',\n",
       " 'Library',\n",
       " 'Target',\n",
       " 'https://tufte.com'}"
      ]
     },
     "execution_count": 43,
     "metadata": {},
     "output_type": "execute_result"
    }
   ],
   "source": [
    "all_locations = set(all_locations)\n",
    "all_locations"
   ]
  },
  {
   "cell_type": "code",
   "execution_count": null,
   "id": "bc55bd78",
   "metadata": {},
   "outputs": [],
   "source": []
  }
 ],
 "metadata": {
  "kernelspec": {
   "display_name": "Python 3 (ipykernel)",
   "language": "python",
   "name": "python3"
  },
  "language_info": {
   "codemirror_mode": {
    "name": "ipython",
    "version": 3
   },
   "file_extension": ".py",
   "mimetype": "text/x-python",
   "name": "python",
   "nbconvert_exporter": "python",
   "pygments_lexer": "ipython3",
   "version": "3.8.12"
  }
 },
 "nbformat": 4,
 "nbformat_minor": 5
}
