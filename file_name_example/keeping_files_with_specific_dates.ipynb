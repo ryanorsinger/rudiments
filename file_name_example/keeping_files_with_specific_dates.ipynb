{
 "cells": [
  {
   "cell_type": "code",
   "execution_count": 43,
   "id": "da04382b",
   "metadata": {},
   "outputs": [],
   "source": [
    "from datetime import datetime\n",
    "import re\n",
    "import json"
   ]
  },
  {
   "cell_type": "code",
   "execution_count": null,
   "id": "da684601",
   "metadata": {},
   "outputs": [],
   "source": []
  },
  {
   "cell_type": "code",
   "execution_count": 44,
   "id": "2d10550e",
   "metadata": {
    "scrolled": false
   },
   "outputs": [
    {
     "name": "stdout",
     "output_type": "stream",
     "text": [
      "2016-06-01 01:01:00\n",
      "2017-07-16 01:19:57\n",
      "Keeping 1559933022038404608.json\n",
      "2017-08-19 01:18:00\n",
      "\n",
      "2016-06-01 01:01:00\n",
      "2017-07-16 01:19:57\n",
      "Keeping 1559942862798791430.json\n",
      "2017-08-19 01:18:00\n",
      "\n",
      "2016-06-01 01:01:00\n",
      "2017-07-16 01:19:57\n",
      "Keeping 1559945106617162303.json\n",
      "2017-08-19 01:18:00\n",
      "\n",
      "2016-06-01 01:01:00\n",
      "2017-07-16 01:19:57\n",
      "Keeping 1559946244623757570.json\n",
      "2017-08-19 01:18:00\n",
      "\n",
      "2016-06-01 01:01:00\n",
      "2017-07-16 01:19:57\n",
      "Keeping 1559950632637446747.json\n",
      "2017-08-19 01:18:00\n",
      "\n",
      "2016-06-01 01:01:00\n",
      "2017-07-16 01:19:57\n",
      "Keeping 1559958041087083002.json\n",
      "2017-08-19 01:18:00\n",
      "\n",
      "2016-06-01 01:01:00\n",
      "2017-07-16 01:19:57\n",
      "Keeping 1559971325086553026.json\n",
      "2017-08-19 01:18:00\n",
      "\n",
      "2016-06-01 01:01:00\n",
      "2017-07-16 01:19:57\n",
      "Keeping 1559973422246425954.json\n",
      "2017-08-19 01:18:00\n",
      "\n",
      "2016-06-01 01:01:00\n",
      "2017-07-16 01:19:57\n",
      "Keeping 1559979681566784817.json\n",
      "2017-08-19 01:18:00\n",
      "\n",
      "2016-06-01 01:01:00\n",
      "2017-07-16 01:19:57\n",
      "Keeping 1559985262556548750.json\n",
      "2017-08-19 01:18:00\n",
      "\n"
     ]
    },
    {
     "data": {
      "text/plain": [
       "['1559933022038404608.json',\n",
       " '1559942862798791430.json',\n",
       " '1559945106617162303.json',\n",
       " '1559946244623757570.json',\n",
       " '1559950632637446747.json',\n",
       " '1559958041087083002.json',\n",
       " '1559971325086553026.json',\n",
       " '1559973422246425954.json',\n",
       " '1559979681566784817.json',\n",
       " '1559985262556548750.json']"
      ]
     },
     "execution_count": 44,
     "metadata": {},
     "output_type": "execute_result"
    }
   ],
   "source": [
    "start = datetime(2016, 6, 1, 1, 1, 0)\n",
    "end = datetime(2017, 8, 19, 1, 18, 0)\n",
    "\n",
    "files_to_keep = []\n",
    "files_to_delete = []\n",
    "\n",
    "files = !ls *.json\n",
    "\n",
    "for file in files:\n",
    "    j = json.load(open(file))\n",
    "    string = json.dumps(j)\n",
    "    matche = re.search(r\"\"\"\n",
    "        \"created_at\":\\s?(\\d+)\n",
    "    \"\"\", string, re.VERBOSE)\n",
    "    \n",
    "    if match:\n",
    "        timestamp = int(match.groups()[0])\n",
    "        datetime = datetime.fromtimestamp(timestamp)\n",
    "\n",
    "        if datetime > start and datetime < end:\n",
    "            files_to_keep.append(file)\n",
    "            print(start)\n",
    "            print(datetime)\n",
    "            print(\"Keeping\", file)\n",
    "            print(end)\n",
    "            print()\n",
    "        else:\n",
    "            files_to_delete.append(file)\n",
    "            \n",
    "files_to_keep"
   ]
  },
  {
   "cell_type": "code",
   "execution_count": null,
   "id": "9b1c3ab7",
   "metadata": {},
   "outputs": [],
   "source": []
  }
 ],
 "metadata": {
  "kernelspec": {
   "display_name": "Python 3 (ipykernel)",
   "language": "python",
   "name": "python3"
  },
  "language_info": {
   "codemirror_mode": {
    "name": "ipython",
    "version": 3
   },
   "file_extension": ".py",
   "mimetype": "text/x-python",
   "name": "python",
   "nbconvert_exporter": "python",
   "pygments_lexer": "ipython3",
   "version": "3.9.7"
  }
 },
 "nbformat": 4,
 "nbformat_minor": 5
}
